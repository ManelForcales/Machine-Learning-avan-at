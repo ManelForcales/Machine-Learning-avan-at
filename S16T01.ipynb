{
 "cells": [
  {
   "cell_type": "markdown",
   "metadata": {},
   "source": [
    "### Nivell 1"
   ]
  },
  {
   "cell_type": "markdown",
   "metadata": {},
   "source": [
    "- Exercici 1\n",
    "\n",
    "Agafa el conjunt de dades que vulguis i realitza un pipeline i un gridsearch aplicant l'algorisme de Random Forest."
   ]
  },
  {
   "cell_type": "code",
   "execution_count": 1,
   "metadata": {},
   "outputs": [],
   "source": [
    "import pandas as pd\n",
    "import seaborn as sns\n",
    "import matplotlib.pyplot as plt\n",
    "import numpy as np\n",
    "pd.set_option('display.max_columns', None)\n",
    "%matplotlib inline"
   ]
  },
  {
   "cell_type": "code",
   "execution_count": 2,
   "metadata": {},
   "outputs": [
    {
     "data": {
      "text/html": [
       "<div>\n",
       "<style scoped>\n",
       "    .dataframe tbody tr th:only-of-type {\n",
       "        vertical-align: middle;\n",
       "    }\n",
       "\n",
       "    .dataframe tbody tr th {\n",
       "        vertical-align: top;\n",
       "    }\n",
       "\n",
       "    .dataframe thead th {\n",
       "        text-align: right;\n",
       "    }\n",
       "</style>\n",
       "<table border=\"1\" class=\"dataframe\">\n",
       "  <thead>\n",
       "    <tr style=\"text-align: right;\">\n",
       "      <th></th>\n",
       "      <th>model</th>\n",
       "      <th>year</th>\n",
       "      <th>price</th>\n",
       "      <th>transmission</th>\n",
       "      <th>mileage</th>\n",
       "      <th>fuelType</th>\n",
       "      <th>tax(£)</th>\n",
       "      <th>mpg</th>\n",
       "      <th>engineSize</th>\n",
       "    </tr>\n",
       "  </thead>\n",
       "  <tbody>\n",
       "    <tr>\n",
       "      <th>0</th>\n",
       "      <td>I20</td>\n",
       "      <td>2017</td>\n",
       "      <td>7999</td>\n",
       "      <td>Manual</td>\n",
       "      <td>17307</td>\n",
       "      <td>Petrol</td>\n",
       "      <td>145</td>\n",
       "      <td>58.9</td>\n",
       "      <td>1.2</td>\n",
       "    </tr>\n",
       "    <tr>\n",
       "      <th>1</th>\n",
       "      <td>Tucson</td>\n",
       "      <td>2016</td>\n",
       "      <td>14499</td>\n",
       "      <td>Automatic</td>\n",
       "      <td>25233</td>\n",
       "      <td>Diesel</td>\n",
       "      <td>235</td>\n",
       "      <td>43.5</td>\n",
       "      <td>2.0</td>\n",
       "    </tr>\n",
       "    <tr>\n",
       "      <th>2</th>\n",
       "      <td>Tucson</td>\n",
       "      <td>2016</td>\n",
       "      <td>11399</td>\n",
       "      <td>Manual</td>\n",
       "      <td>37877</td>\n",
       "      <td>Diesel</td>\n",
       "      <td>30</td>\n",
       "      <td>61.7</td>\n",
       "      <td>1.7</td>\n",
       "    </tr>\n",
       "    <tr>\n",
       "      <th>3</th>\n",
       "      <td>I10</td>\n",
       "      <td>2016</td>\n",
       "      <td>6499</td>\n",
       "      <td>Manual</td>\n",
       "      <td>23789</td>\n",
       "      <td>Petrol</td>\n",
       "      <td>20</td>\n",
       "      <td>60.1</td>\n",
       "      <td>1.0</td>\n",
       "    </tr>\n",
       "    <tr>\n",
       "      <th>4</th>\n",
       "      <td>IX35</td>\n",
       "      <td>2015</td>\n",
       "      <td>10199</td>\n",
       "      <td>Manual</td>\n",
       "      <td>33177</td>\n",
       "      <td>Diesel</td>\n",
       "      <td>160</td>\n",
       "      <td>51.4</td>\n",
       "      <td>2.0</td>\n",
       "    </tr>\n",
       "  </tbody>\n",
       "</table>\n",
       "</div>"
      ],
      "text/plain": [
       "     model  year  price transmission  mileage fuelType  tax(£)   mpg  \\\n",
       "0      I20  2017   7999       Manual    17307   Petrol     145  58.9   \n",
       "1   Tucson  2016  14499    Automatic    25233   Diesel     235  43.5   \n",
       "2   Tucson  2016  11399       Manual    37877   Diesel      30  61.7   \n",
       "3      I10  2016   6499       Manual    23789   Petrol      20  60.1   \n",
       "4     IX35  2015  10199       Manual    33177   Diesel     160  51.4   \n",
       "\n",
       "   engineSize  \n",
       "0         1.2  \n",
       "1         2.0  \n",
       "2         1.7  \n",
       "3         1.0  \n",
       "4         2.0  "
      ]
     },
     "execution_count": 2,
     "metadata": {},
     "output_type": "execute_result"
    }
   ],
   "source": [
    "df = pd.read_csv('hyundai.csv')\n",
    "df.head()"
   ]
  },
  {
   "cell_type": "markdown",
   "metadata": {},
   "source": [
    "+ la idea d'aquest dataset es intentar predir el preu del cotxe en funcio de les altres variables"
   ]
  },
  {
   "cell_type": "code",
   "execution_count": 3,
   "metadata": {},
   "outputs": [],
   "source": [
    "# convertim variables categoriques fent servir OneHotEncoder\n",
    "df1 =pd.get_dummies(data=df,columns=['model','transmission','fuelType'], prefix_sep='_')"
   ]
  },
  {
   "cell_type": "code",
   "execution_count": 4,
   "metadata": {},
   "outputs": [
    {
     "data": {
      "text/html": [
       "<div>\n",
       "<style scoped>\n",
       "    .dataframe tbody tr th:only-of-type {\n",
       "        vertical-align: middle;\n",
       "    }\n",
       "\n",
       "    .dataframe tbody tr th {\n",
       "        vertical-align: top;\n",
       "    }\n",
       "\n",
       "    .dataframe thead th {\n",
       "        text-align: right;\n",
       "    }\n",
       "</style>\n",
       "<table border=\"1\" class=\"dataframe\">\n",
       "  <thead>\n",
       "    <tr style=\"text-align: right;\">\n",
       "      <th></th>\n",
       "      <th>year</th>\n",
       "      <th>price</th>\n",
       "      <th>mileage</th>\n",
       "      <th>tax(£)</th>\n",
       "      <th>mpg</th>\n",
       "      <th>engineSize</th>\n",
       "      <th>model_ Accent</th>\n",
       "      <th>model_ Amica</th>\n",
       "      <th>model_ Getz</th>\n",
       "      <th>model_ I10</th>\n",
       "      <th>model_ I20</th>\n",
       "      <th>model_ I30</th>\n",
       "      <th>model_ I40</th>\n",
       "      <th>model_ I800</th>\n",
       "      <th>model_ IX20</th>\n",
       "      <th>model_ IX35</th>\n",
       "      <th>model_ Ioniq</th>\n",
       "      <th>model_ Kona</th>\n",
       "      <th>model_ Santa Fe</th>\n",
       "      <th>model_ Terracan</th>\n",
       "      <th>model_ Tucson</th>\n",
       "      <th>model_ Veloster</th>\n",
       "      <th>transmission_Automatic</th>\n",
       "      <th>transmission_Manual</th>\n",
       "      <th>transmission_Other</th>\n",
       "      <th>transmission_Semi-Auto</th>\n",
       "      <th>fuelType_Diesel</th>\n",
       "      <th>fuelType_Hybrid</th>\n",
       "      <th>fuelType_Other</th>\n",
       "      <th>fuelType_Petrol</th>\n",
       "    </tr>\n",
       "  </thead>\n",
       "  <tbody>\n",
       "    <tr>\n",
       "      <th>0</th>\n",
       "      <td>2017</td>\n",
       "      <td>7999</td>\n",
       "      <td>17307</td>\n",
       "      <td>145</td>\n",
       "      <td>58.9</td>\n",
       "      <td>1.2</td>\n",
       "      <td>0</td>\n",
       "      <td>0</td>\n",
       "      <td>0</td>\n",
       "      <td>0</td>\n",
       "      <td>1</td>\n",
       "      <td>0</td>\n",
       "      <td>0</td>\n",
       "      <td>0</td>\n",
       "      <td>0</td>\n",
       "      <td>0</td>\n",
       "      <td>0</td>\n",
       "      <td>0</td>\n",
       "      <td>0</td>\n",
       "      <td>0</td>\n",
       "      <td>0</td>\n",
       "      <td>0</td>\n",
       "      <td>0</td>\n",
       "      <td>1</td>\n",
       "      <td>0</td>\n",
       "      <td>0</td>\n",
       "      <td>0</td>\n",
       "      <td>0</td>\n",
       "      <td>0</td>\n",
       "      <td>1</td>\n",
       "    </tr>\n",
       "    <tr>\n",
       "      <th>1</th>\n",
       "      <td>2016</td>\n",
       "      <td>14499</td>\n",
       "      <td>25233</td>\n",
       "      <td>235</td>\n",
       "      <td>43.5</td>\n",
       "      <td>2.0</td>\n",
       "      <td>0</td>\n",
       "      <td>0</td>\n",
       "      <td>0</td>\n",
       "      <td>0</td>\n",
       "      <td>0</td>\n",
       "      <td>0</td>\n",
       "      <td>0</td>\n",
       "      <td>0</td>\n",
       "      <td>0</td>\n",
       "      <td>0</td>\n",
       "      <td>0</td>\n",
       "      <td>0</td>\n",
       "      <td>0</td>\n",
       "      <td>0</td>\n",
       "      <td>1</td>\n",
       "      <td>0</td>\n",
       "      <td>1</td>\n",
       "      <td>0</td>\n",
       "      <td>0</td>\n",
       "      <td>0</td>\n",
       "      <td>1</td>\n",
       "      <td>0</td>\n",
       "      <td>0</td>\n",
       "      <td>0</td>\n",
       "    </tr>\n",
       "    <tr>\n",
       "      <th>2</th>\n",
       "      <td>2016</td>\n",
       "      <td>11399</td>\n",
       "      <td>37877</td>\n",
       "      <td>30</td>\n",
       "      <td>61.7</td>\n",
       "      <td>1.7</td>\n",
       "      <td>0</td>\n",
       "      <td>0</td>\n",
       "      <td>0</td>\n",
       "      <td>0</td>\n",
       "      <td>0</td>\n",
       "      <td>0</td>\n",
       "      <td>0</td>\n",
       "      <td>0</td>\n",
       "      <td>0</td>\n",
       "      <td>0</td>\n",
       "      <td>0</td>\n",
       "      <td>0</td>\n",
       "      <td>0</td>\n",
       "      <td>0</td>\n",
       "      <td>1</td>\n",
       "      <td>0</td>\n",
       "      <td>0</td>\n",
       "      <td>1</td>\n",
       "      <td>0</td>\n",
       "      <td>0</td>\n",
       "      <td>1</td>\n",
       "      <td>0</td>\n",
       "      <td>0</td>\n",
       "      <td>0</td>\n",
       "    </tr>\n",
       "    <tr>\n",
       "      <th>3</th>\n",
       "      <td>2016</td>\n",
       "      <td>6499</td>\n",
       "      <td>23789</td>\n",
       "      <td>20</td>\n",
       "      <td>60.1</td>\n",
       "      <td>1.0</td>\n",
       "      <td>0</td>\n",
       "      <td>0</td>\n",
       "      <td>0</td>\n",
       "      <td>1</td>\n",
       "      <td>0</td>\n",
       "      <td>0</td>\n",
       "      <td>0</td>\n",
       "      <td>0</td>\n",
       "      <td>0</td>\n",
       "      <td>0</td>\n",
       "      <td>0</td>\n",
       "      <td>0</td>\n",
       "      <td>0</td>\n",
       "      <td>0</td>\n",
       "      <td>0</td>\n",
       "      <td>0</td>\n",
       "      <td>0</td>\n",
       "      <td>1</td>\n",
       "      <td>0</td>\n",
       "      <td>0</td>\n",
       "      <td>0</td>\n",
       "      <td>0</td>\n",
       "      <td>0</td>\n",
       "      <td>1</td>\n",
       "    </tr>\n",
       "    <tr>\n",
       "      <th>4</th>\n",
       "      <td>2015</td>\n",
       "      <td>10199</td>\n",
       "      <td>33177</td>\n",
       "      <td>160</td>\n",
       "      <td>51.4</td>\n",
       "      <td>2.0</td>\n",
       "      <td>0</td>\n",
       "      <td>0</td>\n",
       "      <td>0</td>\n",
       "      <td>0</td>\n",
       "      <td>0</td>\n",
       "      <td>0</td>\n",
       "      <td>0</td>\n",
       "      <td>0</td>\n",
       "      <td>0</td>\n",
       "      <td>1</td>\n",
       "      <td>0</td>\n",
       "      <td>0</td>\n",
       "      <td>0</td>\n",
       "      <td>0</td>\n",
       "      <td>0</td>\n",
       "      <td>0</td>\n",
       "      <td>0</td>\n",
       "      <td>1</td>\n",
       "      <td>0</td>\n",
       "      <td>0</td>\n",
       "      <td>1</td>\n",
       "      <td>0</td>\n",
       "      <td>0</td>\n",
       "      <td>0</td>\n",
       "    </tr>\n",
       "  </tbody>\n",
       "</table>\n",
       "</div>"
      ],
      "text/plain": [
       "   year  price  mileage  tax(£)   mpg  engineSize  model_ Accent  \\\n",
       "0  2017   7999    17307     145  58.9         1.2              0   \n",
       "1  2016  14499    25233     235  43.5         2.0              0   \n",
       "2  2016  11399    37877      30  61.7         1.7              0   \n",
       "3  2016   6499    23789      20  60.1         1.0              0   \n",
       "4  2015  10199    33177     160  51.4         2.0              0   \n",
       "\n",
       "   model_ Amica  model_ Getz  model_ I10  model_ I20  model_ I30  model_ I40  \\\n",
       "0             0            0           0           1           0           0   \n",
       "1             0            0           0           0           0           0   \n",
       "2             0            0           0           0           0           0   \n",
       "3             0            0           1           0           0           0   \n",
       "4             0            0           0           0           0           0   \n",
       "\n",
       "   model_ I800  model_ IX20  model_ IX35  model_ Ioniq  model_ Kona  \\\n",
       "0            0            0            0             0            0   \n",
       "1            0            0            0             0            0   \n",
       "2            0            0            0             0            0   \n",
       "3            0            0            0             0            0   \n",
       "4            0            0            1             0            0   \n",
       "\n",
       "   model_ Santa Fe  model_ Terracan  model_ Tucson  model_ Veloster  \\\n",
       "0                0                0              0                0   \n",
       "1                0                0              1                0   \n",
       "2                0                0              1                0   \n",
       "3                0                0              0                0   \n",
       "4                0                0              0                0   \n",
       "\n",
       "   transmission_Automatic  transmission_Manual  transmission_Other  \\\n",
       "0                       0                    1                   0   \n",
       "1                       1                    0                   0   \n",
       "2                       0                    1                   0   \n",
       "3                       0                    1                   0   \n",
       "4                       0                    1                   0   \n",
       "\n",
       "   transmission_Semi-Auto  fuelType_Diesel  fuelType_Hybrid  fuelType_Other  \\\n",
       "0                       0                0                0               0   \n",
       "1                       0                1                0               0   \n",
       "2                       0                1                0               0   \n",
       "3                       0                0                0               0   \n",
       "4                       0                1                0               0   \n",
       "\n",
       "   fuelType_Petrol  \n",
       "0                1  \n",
       "1                0  \n",
       "2                0  \n",
       "3                1  \n",
       "4                0  "
      ]
     },
     "execution_count": 4,
     "metadata": {},
     "output_type": "execute_result"
    }
   ],
   "source": [
    "df1.head()"
   ]
  },
  {
   "cell_type": "code",
   "execution_count": 5,
   "metadata": {},
   "outputs": [],
   "source": [
    "X = df1.drop('price',axis=1)\n",
    "y = df1['price']"
   ]
  },
  {
   "cell_type": "code",
   "execution_count": 6,
   "metadata": {},
   "outputs": [],
   "source": [
    "from sklearn.pipeline import Pipeline\n",
    "from sklearn.model_selection import train_test_split,GridSearchCV\n",
    "from sklearn.ensemble import RandomForestRegressor"
   ]
  },
  {
   "cell_type": "code",
   "execution_count": 7,
   "metadata": {},
   "outputs": [],
   "source": [
    "steps = [('rf', RandomForestRegressor())]\n",
    "pipeline = Pipeline(steps)"
   ]
  },
  {
   "cell_type": "code",
   "execution_count": 8,
   "metadata": {},
   "outputs": [
    {
     "data": {
      "text/plain": [
       "{'memory': None,\n",
       " 'steps': [('rf', RandomForestRegressor())],\n",
       " 'verbose': False,\n",
       " 'rf': RandomForestRegressor(),\n",
       " 'rf__bootstrap': True,\n",
       " 'rf__ccp_alpha': 0.0,\n",
       " 'rf__criterion': 'mse',\n",
       " 'rf__max_depth': None,\n",
       " 'rf__max_features': 'auto',\n",
       " 'rf__max_leaf_nodes': None,\n",
       " 'rf__max_samples': None,\n",
       " 'rf__min_impurity_decrease': 0.0,\n",
       " 'rf__min_impurity_split': None,\n",
       " 'rf__min_samples_leaf': 1,\n",
       " 'rf__min_samples_split': 2,\n",
       " 'rf__min_weight_fraction_leaf': 0.0,\n",
       " 'rf__n_estimators': 100,\n",
       " 'rf__n_jobs': None,\n",
       " 'rf__oob_score': False,\n",
       " 'rf__random_state': None,\n",
       " 'rf__verbose': 0,\n",
       " 'rf__warm_start': False}"
      ]
     },
     "execution_count": 8,
     "metadata": {},
     "output_type": "execute_result"
    }
   ],
   "source": [
    "#anem a mirar els diferents parametres que accepta\n",
    "pipeline.get_params()"
   ]
  },
  {
   "cell_type": "code",
   "execution_count": 9,
   "metadata": {},
   "outputs": [],
   "source": [
    "parameters = {'rf__n_estimators':[75,100,200,400],\n",
    "              'rf__min_samples_leaf':[0.05,0.1,0.15,0.2],\n",
    "              'rf__max_depth':[3,6,8,10]}"
   ]
  },
  {
   "cell_type": "code",
   "execution_count": 10,
   "metadata": {},
   "outputs": [],
   "source": [
    "grid = GridSearchCV(estimator = pipeline, param_grid = parameters, cv=5)"
   ]
  },
  {
   "cell_type": "code",
   "execution_count": 11,
   "metadata": {},
   "outputs": [],
   "source": [
    "X_train, X_test, y_train, y_test = train_test_split(X,y,test_size=0.3)"
   ]
  },
  {
   "cell_type": "code",
   "execution_count": 12,
   "metadata": {},
   "outputs": [
    {
     "name": "stdout",
     "output_type": "stream",
     "text": [
      "score = 0.72\n",
      "Best Hyperparameters: {'rf__max_depth': 8, 'rf__min_samples_leaf': 0.05, 'rf__n_estimators': 100}\n"
     ]
    }
   ],
   "source": [
    "grid.fit(X_train, y_train)\n",
    "print (\"score = %3.2f\" %(grid.score(X_test,y_test)))\n",
    "print (\"Best Hyperparameters:\", grid.best_params_)\n"
   ]
  },
  {
   "cell_type": "markdown",
   "metadata": {},
   "source": [
    "- Exercici 2\n",
    "\n",
    "Agafa un text en anglès que vulguis, i calcula'n la freqüència de les paraules"
   ]
  },
  {
   "cell_type": "code",
   "execution_count": 90,
   "metadata": {},
   "outputs": [],
   "source": [
    "import nltk"
   ]
  },
  {
   "cell_type": "code",
   "execution_count": 110,
   "metadata": {},
   "outputs": [],
   "source": [
    "url = 'https://www.gutenberg.org/files/43/43-0.txt'"
   ]
  },
  {
   "cell_type": "code",
   "execution_count": 128,
   "metadata": {},
   "outputs": [],
   "source": [
    "with open('english_text.txt','r') as f:\n",
    "    raw = f.read()"
   ]
  },
  {
   "cell_type": "code",
   "execution_count": 129,
   "metadata": {},
   "outputs": [
    {
     "data": {
      "text/plain": [
       "'Mr. Utterson the lawyer was a man of a rugged countenance that was\\nnever lighted by a smile; cold, s'"
      ]
     },
     "execution_count": 129,
     "metadata": {},
     "output_type": "execute_result"
    }
   ],
   "source": [
    "raw[:100]"
   ]
  },
  {
   "cell_type": "code",
   "execution_count": 132,
   "metadata": {},
   "outputs": [],
   "source": [
    "from nltk.tokenize import word_tokenize"
   ]
  },
  {
   "cell_type": "code",
   "execution_count": 133,
   "metadata": {},
   "outputs": [
    {
     "data": {
      "text/plain": [
       "30578"
      ]
     },
     "execution_count": 133,
     "metadata": {},
     "output_type": "execute_result"
    }
   ],
   "source": [
    "tokenized_words = word_tokenize(raw.lower())\n",
    "len(tokenized_words)"
   ]
  },
  {
   "cell_type": "code",
   "execution_count": 134,
   "metadata": {},
   "outputs": [
    {
     "data": {
      "text/plain": [
       "['mr.',\n",
       " 'utterson',\n",
       " 'the',\n",
       " 'lawyer',\n",
       " 'was',\n",
       " 'a',\n",
       " 'man',\n",
       " 'of',\n",
       " 'a',\n",
       " 'rugged',\n",
       " 'countenance',\n",
       " 'that',\n",
       " 'was',\n",
       " 'never',\n",
       " 'lighted',\n",
       " 'by',\n",
       " 'a',\n",
       " 'smile',\n",
       " ';',\n",
       " 'cold']"
      ]
     },
     "execution_count": 134,
     "metadata": {},
     "output_type": "execute_result"
    }
   ],
   "source": [
    "tokenized_words[:20]"
   ]
  },
  {
   "cell_type": "code",
   "execution_count": 135,
   "metadata": {},
   "outputs": [
    {
     "name": "stdout",
     "output_type": "stream",
     "text": [
      "[(',', 2048), ('the', 1599), ('and', 969), ('of', 933), ('.', 885), ('to', 638), ('i', 638), ('a', 625), (';', 527), ('was', 468)]\n"
     ]
    },
    {
     "data": {
      "image/png": "[encoded data removed]",
      "text/plain": [
       "<Figure size 432x288 with 1 Axes>"
      ]
     },
     "metadata": {
      "needs_background": "light"
     },
     "output_type": "display_data"
    },
    {
     "data": {
      "text/plain": [
       "<AxesSubplot:xlabel='Samples', ylabel='Counts'>"
      ]
     },
     "execution_count": 135,
     "metadata": {},
     "output_type": "execute_result"
    }
   ],
   "source": [
    "from nltk.probability import FreqDist\n",
    "fdist = FreqDist(tokenized_words)\n",
    "print(fdist.most_common(10))\n",
    "# Frequency Distribution Plot\n",
    "fdist.plot(30,cumulative=False)"
   ]
  },
  {
   "cell_type": "code",
   "execution_count": 136,
   "metadata": {},
   "outputs": [
    {
     "data": {
      "image/png": "[encoded data removed]",
      "text/plain": [
       "<Figure size 432x288 with 1 Axes>"
      ]
     },
     "metadata": {
      "needs_background": "light"
     },
     "output_type": "display_data"
    },
    {
     "data": {
      "text/plain": [
       "<AxesSubplot:xlabel='Samples', ylabel='Counts'>"
      ]
     },
     "execution_count": 136,
     "metadata": {},
     "output_type": "execute_result"
    }
   ],
   "source": [
    "# fem lo mateix que abans pero nomes ens quedem amb les paraules amb 4 o mes lletres\n",
    "tokenized_large_words = [word for word in tokenized_words if len(word) >= 4]\n",
    "fdist = FreqDist(tokenized_large_words)\n",
    "# Frequency Distribution Plot\n",
    "fdist.plot(30,cumulative=False)"
   ]
  },
  {
   "cell_type": "markdown",
   "metadata": {},
   "source": [
    "### Nivell 2"
   ]
  },
  {
   "cell_type": "markdown",
   "metadata": {},
   "source": [
    "- Exercici 1\n",
    "\n",
    "Treu les stopwords i realitza stemming al teu conjunt de dades."
   ]
  },
  {
   "cell_type": "code",
   "execution_count": 137,
   "metadata": {},
   "outputs": [
    {
     "name": "stderr",
     "output_type": "stream",
     "text": [
      "[nltk_data] Downloading package stopwords to /home/vant/nltk_data...\n",
      "[nltk_data]   Package stopwords is already up-to-date!\n"
     ]
    },
    {
     "data": {
      "text/plain": [
       "True"
      ]
     },
     "execution_count": 137,
     "metadata": {},
     "output_type": "execute_result"
    }
   ],
   "source": [
    "nltk.download('stopwords')"
   ]
  },
  {
   "cell_type": "code",
   "execution_count": 138,
   "metadata": {},
   "outputs": [
    {
     "data": {
      "text/plain": [
       "'!\"#$%&\\'()*+,-./:;<=>?@[\\\\]^_`{|}~'"
      ]
     },
     "execution_count": 138,
     "metadata": {},
     "output_type": "execute_result"
    }
   ],
   "source": [
    "import string\n",
    "\n",
    "string.punctuation"
   ]
  },
  {
   "cell_type": "code",
   "execution_count": 139,
   "metadata": {},
   "outputs": [
    {
     "name": "stdout",
     "output_type": "stream",
     "text": [
      "['i', 'me', 'my', 'myself', 'we', 'our', 'ours', 'ourselves', 'you', \"you're\", \"you've\", \"you'll\", \"you'd\", 'your', 'yours', 'yourself', 'yourselves', 'he', 'him', 'his', 'himself', 'she', \"she's\", 'her', 'hers', 'herself', 'it', \"it's\", 'its', 'itself', 'they', 'them', 'their', 'theirs', 'themselves', 'what', 'which', 'who', 'whom', 'this', 'that', \"that'll\", 'these', 'those', 'am', 'is', 'are', 'was', 'were', 'be', 'been', 'being', 'have', 'has', 'had', 'having', 'do', 'does', 'did', 'doing', 'a', 'an', 'the', 'and', 'but', 'if', 'or', 'because', 'as', 'until', 'while', 'of', 'at', 'by', 'for', 'with', 'about', 'against', 'between', 'into', 'through', 'during', 'before', 'after', 'above', 'below', 'to', 'from', 'up', 'down', 'in', 'out', 'on', 'off', 'over', 'under', 'again', 'further', 'then', 'once', 'here', 'there', 'when', 'where', 'why', 'how', 'all', 'any', 'both', 'each', 'few', 'more', 'most', 'other', 'some', 'such', 'no', 'nor', 'not', 'only', 'own', 'same', 'so', 'than', 'too', 'very', 's', 't', 'can', 'will', 'just', 'don', \"don't\", 'should', \"should've\", 'now', 'd', 'll', 'm', 'o', 're', 've', 'y', 'ain', 'aren', \"aren't\", 'couldn', \"couldn't\", 'didn', \"didn't\", 'doesn', \"doesn't\", 'hadn', \"hadn't\", 'hasn', \"hasn't\", 'haven', \"haven't\", 'isn', \"isn't\", 'ma', 'mightn', \"mightn't\", 'mustn', \"mustn't\", 'needn', \"needn't\", 'shan', \"shan't\", 'shouldn', \"shouldn't\", 'wasn', \"wasn't\", 'weren', \"weren't\", 'won', \"won't\", 'wouldn', \"wouldn't\"]\n"
     ]
    }
   ],
   "source": [
    "from nltk.corpus import stopwords\n",
    "stop_words=stopwords.words(\"english\")\n",
    "\n",
    "print(stop_words)"
   ]
  },
  {
   "cell_type": "code",
   "execution_count": 140,
   "metadata": {},
   "outputs": [
    {
     "data": {
      "text/plain": [
       "True"
      ]
     },
     "execution_count": 140,
     "metadata": {},
     "output_type": "execute_result"
    }
   ],
   "source": [
    "'she' in list(stop_words)"
   ]
  },
  {
   "cell_type": "code",
   "execution_count": 141,
   "metadata": {},
   "outputs": [],
   "source": [
    "# anem a treure allo que no sigui signes de puntuació\n",
    "word_tokens = [word for word in tokenized_words if word not in string.punctuation]\n"
   ]
  },
  {
   "cell_type": "code",
   "execution_count": 143,
   "metadata": {},
   "outputs": [
    {
     "name": "stdout",
     "output_type": "stream",
     "text": [
      "filtered words: ['mr.', 'utterson', 'lawyer', 'man', 'rugged', 'countenance', 'never', 'lighted', 'smile', 'cold', 'scanty', 'embarrassed', 'discourse', 'backward', 'sentiment', 'lean', 'long', 'dusty', 'dreary', 'yet', 'somehow', 'lovable', 'friendly', 'meetings', 'wine', 'taste', 'something', 'eminently', 'human', 'beaconed']\n"
     ]
    }
   ],
   "source": [
    "# remove stopwords\n",
    "filtered_words=[]\n",
    "for word in word_tokens:\n",
    "    if word not in stop_words:\n",
    "        filtered_words.append(word)\n",
    "#print(\"unfiltered words:\",tokenized_words[:30])\n",
    "print(\"filtered words:\",filtered_words[:30])"
   ]
  },
  {
   "cell_type": "code",
   "execution_count": 144,
   "metadata": {},
   "outputs": [],
   "source": [
    "# Stemming\n",
    "from nltk.stem import PorterStemmer"
   ]
  },
  {
   "cell_type": "markdown",
   "metadata": {},
   "source": [
    "+ Stemming is a process of linguistic normalization, which reduces words to their word root word or chops off the derivational affixes."
   ]
  },
  {
   "cell_type": "code",
   "execution_count": 145,
   "metadata": {},
   "outputs": [
    {
     "name": "stdout",
     "output_type": "stream",
     "text": [
      "Stemmed words: ['mr.', 'utterson', 'lawyer', 'man', 'rug', 'counten', 'never', 'light', 'smile', 'cold', 'scanti', 'embarrass', 'discours', 'backward', 'sentiment', 'lean', 'long', 'dusti', 'dreari', 'yet', 'somehow', 'lovabl', 'friendli', 'meet', 'wine', 'tast', 'someth', 'emin', 'human', 'beacon', 'eye', 'someth', 'inde', 'never', 'found', 'way', 'talk', 'spoke', 'silent', 'symbol', 'after-dinn', 'face', 'often', 'loudli', 'act', 'life', 'auster', 'drank', 'gin', 'alon', 'mortifi', 'tast', 'vintag', 'though', 'enjoy', 'theatr', 'cross', 'door', 'one', 'twenti', 'year', 'approv', 'toler', 'other', 'sometim', 'wonder', 'almost', 'envi', 'high', 'pressur', 'spirit', 'involv', 'misde', 'extrem', 'inclin', 'help', 'rather', 'reprov', '“', 'inclin', 'cain', '’', 'heresi', '”', 'use', 'say', 'quaintli', '“', 'let', 'brother', 'go', 'devil', 'way.', '”', 'charact', 'frequent', 'fortun', 'last', 'reput', 'acquaint', 'last', 'good', 'influenc', 'live', 'downgo', 'men', 'long', 'came', 'chamber', 'never', 'mark', 'shade', 'chang', 'demeanour', 'doubt', 'feat', 'easi', 'mr.', 'utterson', 'undemonstr', 'best', 'even', 'friendship', 'seem', 'found', 'similar', 'cathol', 'good-natur', 'mark', 'modest', 'man', 'accept', 'friendli', 'circl', 'ready-mad', 'hand', 'opportun', 'lawyer', '’', 'way', 'friend', 'blood', 'known', 'longest', 'affect', 'like', 'ivi', 'growth', 'time', 'impli', 'apt', 'object', 'henc', 'doubt', 'bond', 'unit', 'mr.', 'richard', 'enfield', 'distant', 'kinsman', 'well-known', 'man', 'town', 'nut', 'crack', 'mani', 'two', 'could', 'see', 'subject', 'could', 'find', 'common', 'report', 'encount', 'sunday', 'walk', 'said', 'noth', 'look', 'singularli', 'dull', 'would', 'hail', 'obviou', 'relief', 'appear', 'friend', 'two', 'men', 'put', 'greatest', 'store', 'excurs', 'count', 'chief', 'jewel', 'week', 'set', 'asid', 'occas', 'pleasur', 'even', 'resist', 'call', 'busi', 'might', 'enjoy', 'uninterrupt', 'chanc', 'one', 'rambl', 'way', 'led', 'by-street', 'busi', 'quarter', 'london', 'street', 'small', 'call', 'quiet', 'drove', 'thrive', 'trade', 'weekday', 'inhabit', 'well', 'seem', 'emul', 'hope', 'better', 'still', 'lay', 'surplu', 'grain', 'coquetri', 'shop', 'front', 'stood', 'along', 'thoroughfar', 'air', 'invit', 'like', 'row', 'smile', 'saleswomen', 'even', 'sunday', 'veil', 'florid', 'charm', 'lay', 'compar', 'empti', 'passag', 'street', 'shone', 'contrast', 'dingi', 'neighbourhood', 'like', 'fire', 'forest', 'freshli', 'paint', 'shutter', 'well-polish', 'brass', 'gener', 'cleanli', 'gaieti', 'note', 'instantli', 'caught', 'pleas', 'eye', 'passeng', 'two', 'door', 'one', 'corner', 'left', 'hand', 'go', 'east', 'line', 'broken', 'entri', 'court', 'point', 'certain', 'sinist', 'block', 'build', 'thrust', 'forward', 'gabl', 'street', 'two', 'storey', 'high', 'show', 'window', 'noth', 'door', 'lower', 'storey', 'blind', 'forehead', 'discolour', 'wall', 'upper', 'bore', 'everi', 'featur', 'mark', 'prolong', 'sordid', 'neglig', 'door', 'equip', 'neither', 'bell', 'knocker', 'blister', 'distain', 'tramp', 'slouch', 'recess', 'struck', 'match', 'panel', 'children', 'kept', 'shop', 'upon', 'step', 'schoolboy', 'tri', 'knife', 'mould', 'close', 'gener', 'one', 'appear', 'drive', 'away', 'random', 'visitor', 'repair', 'ravag', 'mr.', 'enfield', 'lawyer', 'side', 'by-street', 'came', 'abreast', 'entri', 'former', 'lift', 'cane', 'point', '“', 'ever', 'remark', 'door', '”', 'ask', 'companion', 'repli', 'affirm', '“', 'connect', 'mind', '”', 'ad', '“', 'odd', 'story.', '”', '“', 'inde', '”', 'said', 'mr.', 'utterson', 'slight', 'chang', 'voic', '“', '”', '“', 'well', 'way', '”', 'return', 'mr.', 'enfield', '“', 'come', 'home', 'place', 'end', 'world', 'three', '’', 'clock', 'black', 'winter', 'morn', 'way', 'lay', 'part', 'town', 'liter', 'noth', 'seen', 'lamp', 'street', 'street', 'folk', 'asleep—street', 'street', 'light', 'process', 'empti', 'church—til', 'last', 'got', 'state', 'mind', 'man', 'listen', 'listen', 'begin', 'long', 'sight', 'policeman', 'saw', 'two', 'figur', 'one', 'littl', 'man', 'stump', 'along', 'eastward', 'good', 'walk', 'girl', 'mayb', 'eight', 'ten', 'run', 'hard', 'abl', 'cross', 'street', 'well', 'sir', 'two', 'ran', 'one', 'anoth', 'natur', 'enough', 'corner', 'came', 'horribl', 'part', 'thing', 'man', 'trampl', 'calmli', 'child', '’', 'bodi', 'left', 'scream', 'ground', 'sound', 'noth', 'hear', 'hellish', 'see', '’', 'like', 'man', 'like', 'damn', 'juggernaut', 'gave', 'halloa', 'took', 'heel', 'collar', 'gentleman', 'brought', 'back', 'alreadi', 'quit', 'group', 'scream', 'child', 'perfectli', 'cool', 'made', 'resist', 'gave', 'one', 'look', 'ugli', 'brought', 'sweat', 'like', 'run', 'peopl', 'turn', 'girl', '’', 'famili', 'pretti', 'soon', 'doctor', 'sent', 'put', 'appear', 'well', 'child', 'much', 'wors', 'frighten', 'accord', 'sawbon', 'might', 'suppos', 'would', 'end', 'one', 'curiou', 'circumst', 'taken', 'loath', 'gentleman', 'first', 'sight', 'child', '’', 'famili', 'natur', 'doctor', '’', 'case', 'struck', 'usual', 'cut', 'dri', 'apothecari', 'particular', 'age', 'colour', 'strong', 'edinburgh', 'accent', 'emot', 'bagpip', 'well', 'sir', 'like', 'rest', 'us', 'everi', 'time', 'look', 'prison', 'saw', 'sawbon', 'turn', 'sick', 'white', 'desir', 'kill', 'knew', 'mind', 'knew', 'mine', 'kill', 'question', 'next', 'best', 'told', 'man', 'could', 'would', 'make', 'scandal', 'make', 'name', 'stink', 'one', 'end', 'london', 'friend', 'credit', 'undertook', 'lose', 'time', 'pitch', 'red', 'hot', 'keep', 'women', 'best', 'could', 'wild', 'harpi', 'never', 'saw', 'circl', 'hate', 'face', 'man', 'middl', 'kind', 'black', 'sneer', 'coolness—frighten', 'could', 'see', 'that—but', 'carri', 'sir', 'realli', 'like', 'satan', '‘', 'choos', 'make', 'capit', 'accid', '’', 'said', '‘', 'natur', 'helpless', 'gentleman', 'wish', 'avoid', 'scene', '’', 'say', '‘', 'name', 'figure.', '’', 'well', 'screw', 'hundr', 'pound', 'child', '’', 'famili', 'would', 'clearli', 'like', 'stick', 'someth', 'lot', 'us', 'meant', 'mischief', 'last', 'struck', 'next', 'thing', 'get', 'money', 'think', 'carri', 'us', 'place', 'door', '—whip', 'key', 'went', 'present', 'came', 'back', 'matter', 'ten', 'pound', 'gold', 'chequ', 'balanc', 'coutt', '’', 'drawn', 'payabl', 'bearer', 'sign', 'name', '’', 'mention', 'though', '’', 'one', 'point', 'stori', 'name', 'least', 'well', 'known', 'often', 'print', 'figur', 'stiff', 'signatur', 'good', 'genuin', 'took', 'liberti', 'point', 'gentleman', 'whole', 'busi', 'look', 'apocryph', 'man', 'real', 'life', 'walk', 'cellar', 'door', 'four', 'morn', 'come', 'anoth', 'man', '’', 'chequ', 'close', 'upon', 'hundr', 'pound', 'quit', 'easi', 'sneer', '‘', 'set', 'mind', 'rest', '’', 'say', '‘', 'stay', 'till', 'bank', 'open', 'cash', 'chequ', 'myself.', '’', 'set', 'doctor', 'child', '’', 'father', 'friend', 'pass', 'rest', 'night', 'chamber', 'next', 'day', 'breakfast', 'went', 'bodi', 'bank', 'gave', 'chequ', 'said', 'everi', 'reason', 'believ', 'forgeri', 'bit', 'chequ', 'genuine.', '”', '“', 'tut-tut', '”', 'said', 'mr.', 'utterson', '“', 'see', 'feel', '”', 'said', 'mr.', 'enfield', '“', 'ye', '’', 'bad', 'stori', 'man', 'fellow', 'nobodi', 'could', 'realli', 'damnabl', 'man', 'person', 'drew', 'chequ', 'pink', 'proprieti', 'celebr', 'make', 'wors', 'one', 'fellow', 'call', 'good', 'blackmail', 'suppos', 'honest', 'man', 'pay', 'nose', 'caper', 'youth', 'black', 'mail', 'hous', 'call', 'place', 'door', 'consequ', 'though', 'even', 'know', 'far', 'explain', '”', 'ad', 'word', 'fell', 'vein', 'muse', 'recal', 'mr.', 'utterson', 'ask', 'rather', 'suddenli', '“', '’', 'know', 'drawer', 'chequ', 'live', '”', '“', 'like', 'place', '’', '”', 'return', 'mr.', 'enfield', '“', 'happen', 'notic', 'address', 'live', 'squar', 'other.', '”', '“', 'never', 'ask', 'the—plac', 'door', '”', 'said', 'mr.', 'utterson', '“', 'sir', 'delicaci', '”', 'repli', '“', 'feel', 'strongli', 'put', 'question', 'partak', 'much', 'style', 'day', 'judgment', 'start', 'question', '’', 'like', 'start', 'stone', 'sit', 'quietli', 'top', 'hill', 'away', 'stone', 'goe', 'start', 'other', 'present', 'bland', 'old', 'bird', 'last', 'would', 'thought', 'knock', 'head', 'back', 'garden', 'famili', 'chang', 'name', 'sir', 'make', 'rule', 'mine', 'look', 'like', 'queer', 'street', 'less', 'ask.', '”', '“', 'good', 'rule', '”', 'said', 'lawyer', '“', 'studi', 'place', '”', 'continu', 'mr.', 'enfield', '“', 'seem', 'scarc', 'hous', 'door', 'nobodi', 'goe', 'one', 'great', 'gentleman', 'adventur', 'three', 'window', 'look', 'court', 'first', 'floor', 'none', 'window', 'alway', 'shut', '’', 'clean', 'chimney', 'gener', 'smoke', 'somebodi', 'must', 'live', 'yet', '’', 'sure', 'build', 'pack', 'togeth', 'court', '’', 'hard', 'say', 'one', 'end', 'anoth', 'begins.', '”', 'pair', 'walk', 'silenc', '“', 'enfield', '”', 'said', 'mr.', 'utterson', '“', '’', 'good', 'rule', 'yours.', '”', '“', 'ye', 'think', '”', 'return', 'enfield', '“', '”', 'continu', 'lawyer', '“', '’', 'one', 'point', 'want', 'ask', 'want', 'ask', 'name', 'man', 'walk', 'child.', '”', '“', 'well', '”', 'said', 'mr.', 'enfield', '“', '’', 'see', 'harm', 'would', 'man', 'name', 'hyde.', '”', '“', 'hm', '”', 'said', 'mr.', 'utterson', '“', 'sort', 'man', 'see', '”', '“', 'easi', 'describ', 'someth', 'wrong', 'appear', 'someth', 'displeas', 'someth', 'down-right', 'detest', 'never', 'saw', 'man', 'dislik', 'yet', 'scarc', 'know', 'must', 'deform', 'somewher', 'give', 'strong', 'feel', 'deform', 'although', '’', 'specifi', 'point', '’', 'extraordinari', 'look', 'man', 'yet', 'realli', 'name', 'noth', 'way', 'sir', 'make', 'hand', '’', 'describ', '’', 'want', 'memori', 'declar', 'see', 'moment.', '”', 'mr.', 'utterson', 'walk', 'way', 'silenc', 'obvious', 'weight', 'consider', '“', 'sure', 'use', 'key', '”', 'inquir', 'last', '“', 'dear', 'sir', '...', '”', 'began', 'enfield', 'surpris', '“', 'ye', 'know', '”', 'said', 'utterson', '“', 'know', 'must', 'seem', 'strang', 'fact', 'ask', 'name', 'parti', 'know', 'alreadi', 'see', 'richard', 'tale', 'gone', 'home', 'inexact', 'point', 'better', 'correct', 'it.', '”', '“', 'think', 'might', 'warn', '”', 'return', 'touch', 'sullen', '“', 'pedant', 'exact', 'call', 'fellow', 'key', '’', 'still', 'saw', 'use', 'week', 'ago.', '”', 'mr.', 'utterson', 'sigh', 'deepli', 'said', 'never', 'word', 'young', 'man', 'present', 'resum', '“', 'anoth', 'lesson', 'say', 'noth', '”', 'said', '“', 'asham', 'long', 'tongu', 'let', 'us', 'make', 'bargain', 'never', 'refer', 'again.', '”', '“', 'heart', '”', 'said', 'lawyer', '“', 'shake', 'hand', 'richard.', '”', 'search', 'mr.', 'hyde', 'even', 'mr.', 'utterson', 'came', 'home', 'bachelor', 'hous', 'sombr', 'spirit', 'sat', 'dinner', 'without', 'relish', 'custom', 'sunday', 'meal', 'sit', 'close', 'fire', 'volum', 'dri', 'divin', 'read', 'desk', 'clock', 'neighbour', 'church', 'rang', 'hour', 'twelv', 'would', 'go', 'soberli', 'grate', 'bed', 'night', 'howev', 'soon', 'cloth', 'taken', 'away', 'took', 'candl', 'went', 'busi', 'room', 'open', 'safe', 'took', 'privat', 'part', 'document', 'endors', 'envelop', 'dr.', 'jekyl', '’', 'sat', 'cloud', 'brow', 'studi', 'content', 'holograph', 'mr.', 'utterson', 'though', 'took', 'charg', 'made', 'refus', 'lend', 'least', 'assist', 'make', 'provid', 'case', 'deceas', 'henri', 'jekyl', 'm.d.', 'd.c.l.', 'l.l.d.', 'f.r.s.', 'etc.', 'possess', 'pass', 'hand', '“', 'friend', 'benefactor', 'edward', 'hyde', '”', 'case', 'dr.', 'jekyl', '’', '“', 'disappear', 'unexplain', 'absenc', 'period', 'exceed', 'three', 'calendar', 'month', '”', 'said', 'edward', 'hyde', 'step', 'said', 'henri', 'jekyl', '’', 'shoe', 'without', 'delay', 'free', 'burthen', 'oblig', 'beyond', 'payment', 'small', 'sum', 'member', 'doctor', '’', 'household', 'document', 'long', 'lawyer', '’', 'eyesor', 'offend', 'lawyer', 'lover', 'sane', 'customari', 'side', 'life', 'fanci', 'immodest', 'hitherto', 'ignor', 'mr.', 'hyde', 'swell', 'indign', 'sudden', 'turn', 'knowledg', 'alreadi', 'bad', 'enough', 'name', 'name', 'could', 'learn', 'wors', 'began', 'cloth', 'upon', 'detest', 'attribut', 'shift', 'insubstanti', 'mist', 'long', 'baffl', 'eye', 'leap', 'sudden', 'definit', 'present', 'fiend', '“', 'thought', 'mad', '”', 'said', 'replac', 'obnoxi', 'paper', 'safe', '“', 'begin', 'fear', 'disgrace.', '”', 'blew', 'candl', 'put', 'greatcoat', 'set', 'forth', 'direct', 'cavendish', 'squar', 'citadel', 'medicin', 'friend', 'great', 'dr.', 'lanyon', 'hous', 'receiv', 'crowd', 'patient', '“', 'anyon', 'know', 'lanyon', '”', 'thought', 'solemn', 'butler', 'knew', 'welcom', 'subject', 'stage', 'delay', 'usher', 'direct', 'door', 'dining-room', 'dr.', 'lanyon', 'sat', 'alon', 'wine', 'hearti', 'healthi', 'dapper', 'red-fac', 'gentleman', 'shock', 'hair', 'prematur', 'white', 'boister', 'decid', 'manner', 'sight', 'mr.', 'utterson', 'sprang', 'chair', 'welcom', 'hand', 'genial', 'way', 'man', 'somewhat', 'theatric', 'eye', 'repos', 'genuin', 'feel', 'two', 'old', 'friend', 'old', 'mate', 'school', 'colleg', 'thorough', 'respector', 'alway', 'follow', 'men', 'thoroughli', 'enjoy', '’', 'compani', 'littl', 'rambl', 'talk', 'lawyer', 'led', 'subject', 'disagre', 'preoccupi', 'mind', '“', 'suppos', 'lanyon', '”', 'said', '“', 'must', 'two', 'oldest', 'friend', 'henri', 'jekyl', '”', '“', 'wish', 'friend', 'younger', '”', 'chuckl', 'dr.', 'lanyon', '“', 'suppos', 'see', 'littl', 'now.', '”', '“', 'inde', '”', 'said', 'utterson', '“', 'thought', 'bond', 'common', 'interest.', '”', '“', '”', 'repli', '“', 'ten', 'year', 'sinc', 'henri', 'jekyl', 'becam', 'fanci', 'began', 'go', 'wrong', 'wrong', 'mind', 'though', 'cours', 'continu', 'take', 'interest', 'old', 'sake', '’', 'sake', 'say', 'see', 'seen', 'devilish', 'littl', 'man', 'unscientif', 'balderdash', '”', 'ad', 'doctor', 'flush', 'suddenli', 'purpl', '“', 'would', 'estrang', 'damon', 'pythias.', '”', 'littl', 'spirit', 'temper', 'somewhat', 'relief', 'mr.', 'utterson', '“', 'differ', 'point', 'scienc', '”', 'thought', 'man', 'scientif', 'passion', 'except', 'matter', 'conveyanc', 'even', 'ad', '“', 'noth', 'wors', '”', 'gave', 'friend', 'second', 'recov', 'composur', 'approach', 'question', 'come', 'put', '“', 'ever', 'come', 'across', '_protégé_', 'his—on', 'hyde', '”', 'ask', '“', 'hyde', '”', 'repeat', 'lanyon', '“', 'never', 'heard', 'sinc', 'time.', '”', 'amount', 'inform', 'lawyer', 'carri', 'back', 'great', 'dark', 'bed', 'toss', 'fro', 'small', 'hour', 'morn', 'began', 'grow', 'larg', 'night', 'littl', 'eas', 'toil', 'mind', 'toil', 'mere', 'dark', 'besieg', 'question', 'six', '’', 'clock', 'struck', 'bell', 'church', 'conveni', 'near', 'mr.', 'utterson', '’', 'dwell', 'still', 'dig', 'problem', 'hitherto', 'touch', 'intellectu', 'side', 'alon', 'imagin', 'also', 'engag', 'rather', 'enslav', 'lay', 'toss', 'gross', 'dark', 'night', 'curtain', 'room', 'mr.', 'enfield', '’', 'tale', 'went', 'mind', 'scroll', 'light', 'pictur', 'would', 'awar', 'great', 'field', 'lamp', 'nocturn', 'citi', 'figur', 'man', 'walk', 'swiftli', 'child', 'run', 'doctor', '’', 'met', 'human', 'juggernaut', 'trod', 'child', 'pass', 'regardless', 'scream', 'els', 'would', 'see', 'room', 'rich', 'hous', 'friend', 'lay', 'asleep', 'dream', 'smile', 'dream', 'door', 'room', 'would', 'open', 'curtain', 'bed', 'pluck', 'apart', 'sleeper', 'recal', 'lo', 'would', 'stand', 'side', 'figur', 'power', 'given', 'even', 'dead', 'hour', 'must', 'rise', 'bid', 'figur', 'two', 'phase', 'haunt', 'lawyer', 'night', 'time', 'doze', 'see', 'glide', 'stealthili', 'sleep', 'hous', 'move', 'swiftli', 'still', 'swiftli', 'even', 'dizzi', 'wider', 'labyrinth', 'lamplight', 'citi', 'everi', 'street', 'corner', 'crush', 'child', 'leav', 'scream', 'still', 'figur', 'face', 'might', 'know', 'even', 'dream', 'face', 'one', 'baffl', 'melt', 'eye', 'thu', 'sprang', 'grew', 'apac', 'lawyer', '’', 'mind', 'singularli', 'strong', 'almost', 'inordin', 'curios', 'behold', 'featur', 'real', 'mr.', 'hyde', 'could', 'set', 'eye', 'thought', 'mysteri', 'would', 'lighten', 'perhap', 'roll', 'altogeth', 'away', 'habit', 'mysteri', 'thing', 'well', 'examin', 'might', 'see', 'reason', 'friend', '’', 'strang', 'prefer', 'bondag', 'call', 'pleas', 'even', 'startl', 'claus', 'least', 'would', 'face', 'worth', 'see', 'face', 'man', 'without', 'bowel', 'merci', 'face', 'show', 'rais', 'mind', 'unimpression', 'enfield', 'spirit', 'endur', 'hatr', 'time', 'forward', 'mr.', 'utterson', 'began', 'haunt', 'door', 'by-street', 'shop', 'morn', 'offic', 'hour', 'noon', 'busi', 'plenti', 'time', 'scarc', 'night', 'face', 'fog', 'citi', 'moon', 'light', 'hour', 'solitud', 'concours', 'lawyer', 'found', 'chosen', 'post', '“', 'mr.', 'hyde', '”', 'thought', '“', 'shall', 'mr.', 'seek.', '”', 'last', 'patienc', 'reward', 'fine', 'dri', 'night', 'frost', 'air', 'street', 'clean', 'ballroom', 'floor', 'lamp', 'unshaken', 'wind', 'draw', 'regular', 'pattern', 'light', 'shadow', 'ten', '’', 'clock', 'shop', 'close', 'by-street', 'solitari', 'spite', 'low', 'growl', 'london', 'round', 'silent', 'small', 'sound', 'carri', 'far', 'domest', 'sound', 'hous', 'clearli', 'audibl', 'either', 'side', 'roadway', 'rumour', 'approach', 'passeng', 'preced', 'long', 'time', 'mr.', 'utterson', 'minut', 'post', 'awar', 'odd', 'light', 'footstep', 'draw', 'near', 'cours', 'nightli', 'patrol', 'long', 'grown', 'accustom', 'quaint', 'effect', 'footfal', 'singl', 'person', 'still', 'great', 'way', 'suddenli', 'spring', 'distinct', 'vast', 'hum', 'clatter', 'citi', 'yet', 'attent', 'never', 'sharpli', 'decis', 'arrest', 'strong', 'superstiti', 'previs', 'success', 'withdrew', 'entri', 'court', 'step', 'drew', 'swiftli', 'nearer', 'swell', 'suddenli', 'louder', 'turn', 'end', 'street', 'lawyer', 'look', 'forth', 'entri', 'could', 'soon', 'see', 'manner', 'man', 'deal', 'small', 'plainli', 'dress', 'look', 'even', 'distanc', 'went', 'somehow', 'strongli', 'watcher', '’', 'inclin', 'made', 'straight', 'door', 'cross', 'roadway', 'save', 'time', 'came', 'drew', 'key', 'pocket', 'like', 'one', 'approach', 'home', 'mr.', 'utterson', 'step', 'touch', 'shoulder', 'pass', '“', 'mr', 'hyde', 'think', '”', 'mr.', 'hyde', 'shrank', 'back', 'hiss', 'intak', 'breath', 'fear', 'momentari', 'though', 'look', 'lawyer', 'face', 'answer', 'coolli', 'enough', '“', 'name', 'want', '”', '“', 'see', 'go', '”', 'return', 'lawyer', '“', 'old', 'friend', 'dr.', 'jekyl', '’', 's—mr', 'utterson', 'gaunt', 'street—you', 'must', 'heard', 'name', 'meet', 'conveni', 'thought', 'might', 'admit', 'me.', '”', '“', 'find', 'dr.', 'jekyl', 'home', '”', 'repli', 'mr.', 'hyde', 'blow', 'key', 'suddenli', 'still', 'without', 'look', '“', 'know', '”', 'ask', '“', 'side', '”', 'said', 'mr.', 'utterson', '“', 'favour', '”', '“', 'pleasur', '”', 'repli', '“', 'shall', '”', '“', 'let', 'see', 'face', '”', 'ask', 'lawyer', 'mr.', 'hyde', 'appear', 'hesit', 'upon', 'sudden', 'reflect', 'front', 'air', 'defianc', 'pair', 'stare', 'pretti', 'fixedli', 'second', '“', 'shall', 'know', '”', 'said', 'mr.', 'utterson', '“', 'may', 'useful.', '”', '“', 'ye', '”', 'return', 'mr.', 'hyde', '“', 'well', 'met', '_à', 'propos_', 'address.', '”', 'gave', 'number', 'street', 'soho', '“', 'good', 'god', '”', 'thought', 'mr.', 'utterson', '“', 'think', '”', 'kept', 'feel', 'grunt', 'acknowledg', 'address', '“', '”', 'said', '“', 'know', '”', '“', 'descript', '”', 'repli', '“', 'whose', 'descript', '”', '“', 'common', 'friend', '”', 'said', 'mr.', 'utterson', '“', 'common', 'friend', '”', 'echo', 'mr.', 'hyde', 'littl', 'hoars', '“', '”', '“', 'jekyl', 'instanc', '”', 'said', 'lawyer', '“', 'never', 'told', '”', 'cri', 'mr.', 'hyde', 'flush', 'anger', '“', 'think', 'would', 'lied.', '”', '“', 'come', '”', 'said', 'mr.', 'utterson', '“', 'fit', 'language.', '”', 'snarl', 'aloud', 'savag', 'laugh', 'next', 'moment', 'extraordinari', 'quick', 'unlock', 'door', 'disappear', 'hous', 'lawyer', 'stood', 'awhil', 'mr.', 'hyde', 'left', 'pictur', 'disquietud', 'began', 'slowli', 'mount', 'street', 'paus', 'everi', 'step', 'two', 'put', 'hand', 'brow', 'like', 'man', 'mental', 'perplex', 'problem', 'thu', 'debat', 'walk', 'one', 'class', 'rare', 'solv', 'mr.', 'hyde', 'pale', 'dwarfish', 'gave', 'impress', 'deform', 'without', 'nameabl', 'malform', 'displeas', 'smile', 'born', 'lawyer', 'sort', 'murder', 'mixtur', 'timid', 'bold', 'spoke', 'huski', 'whisper', 'somewhat', 'broken', 'voic', 'point', 'togeth', 'could', 'explain', 'hitherto', 'unknown', 'disgust', 'loath', 'fear', 'mr.', 'utterson', 'regard', '“', 'must', 'someth', 'els', '”', 'said', 'perplex', 'gentleman', '“', '_is_', 'someth', 'could', 'find', 'name', 'god', 'bless', 'man', 'seem', 'hardli', 'human', 'someth', 'troglodyt', 'shall', 'say', 'old', 'stori', 'dr.', 'fell', 'mere', 'radianc', 'foul', 'soul', 'thu', 'transpir', 'transfigur', 'clay', 'contin', 'last', 'think', 'poor', 'old', 'harri', 'jekyl', 'ever', 'read', 'satan', '’', 'signatur', 'upon', 'face', 'new', 'friend.', '”', 'round', 'corner', 'by-street', 'squar', 'ancient', 'handsom', 'hous', 'part', 'decay', 'high', 'estat', 'let', 'flat', 'chamber', 'sort', 'condit', 'men', 'map-engrav', 'architect', 'shadi', 'lawyer', 'agent', 'obscur', 'enterpris', 'one', 'hous', 'howev', 'second', 'corner', 'still', 'occupi', 'entir', 'door', 'wore', 'great', 'air', 'wealth', 'comfort', 'though', 'plung', 'dark', 'except', 'fanlight', 'mr.', 'utterson', 'stop', 'knock', 'well-dress', 'elderli', 'servant', 'open', 'door', '“', 'dr.', 'jekyl', 'home', 'pool', '”', 'ask', 'lawyer', '“', 'see', 'mr.', 'utterson', '”', 'said', 'pool', 'admit', 'visitor', 'spoke', 'larg', 'low-roof', 'comfort', 'hall', 'pave', 'flag', 'warm', 'fashion', 'countri', 'hous', 'bright', 'open', 'fire', 'furnish', 'costli', 'cabinet', 'oak', '“', 'wait', 'fire', 'sir', 'shall', 'give', 'light', 'dining-room', '”', '“', 'thank', '”', 'said', 'lawyer', 'drew', 'near', 'lean', 'tall', 'fender', 'hall', 'left', 'alon', 'pet', 'fanci', 'friend', 'doctor', '’', 'utterson', 'wont', 'speak', 'pleasantest', 'room', 'london', 'tonight', 'shudder', 'blood', 'face', 'hyde', 'sat', 'heavi', 'memori', 'felt', 'rare', 'nausea', 'distast', 'life', 'gloom', 'spirit', 'seem', 'read', 'menac', 'flicker', 'firelight', 'polish', 'cabinet', 'uneasi', 'start', 'shadow', 'roof', 'asham', 'relief', 'pool', 'present', 'return', 'announc', 'dr.', 'jekyl', 'gone', '“', 'saw', 'mr.', 'hyde', 'go', 'old', 'dissect', 'room', 'pool', '”', 'said', '“', 'right', 'dr.', 'jekyl', 'home', '”', '“', 'quit', 'right', 'mr.', 'utterson', 'sir', '”', 'repli', 'servant', '“', 'mr', 'hyde', 'key.', '”', '“', 'master', 'seem', 'repos', 'great', 'deal', 'trust', 'young', 'man', 'pool', '”', 'resum', 'musingli', '“', 'ye', 'sir', 'inde', '”', 'said', 'pool', '“', 'order', 'obey', 'him.', '”', '“', 'think', 'ever', 'met', 'mr.', 'hyde', '”', 'ask', 'utterson', '“', 'dear', 'sir', 'never', '_dines_', '”', 'repli', 'butler', '“', 'inde', 'see', 'littl', 'side', 'hous', 'mostli', 'come', 'goe', 'laboratory.', '”', '“', 'well', 'good-night', 'poole.', '”', '“', 'good-night', 'mr.', 'utterson.', '”', 'lawyer', 'set', 'homeward', 'heavi', 'heart', '“', 'poor', 'harri', 'jekyl', '”', 'thought', '“', 'mind', 'misgiv', 'deep', 'water', 'wild', 'young', 'long', 'ago', 'sure', 'law', 'god', 'statut', 'limit', 'ay', 'must', 'ghost', 'old', 'sin', 'cancer', 'conceal', 'disgrac', 'punish', 'come', '_pede', 'claudo_', 'year', 'memori', 'forgotten', 'self-lov', 'condon', 'fault.', '”', 'lawyer', 'scare', 'thought', 'brood', 'awhil', 'past', 'grope', 'corner', 'memori', 'least', 'chanc', 'jack-in-the-box', 'old', 'iniqu', 'leap', 'light', 'past', 'fairli', 'blameless', 'men', 'could', 'read', 'roll', 'life', 'less', 'apprehens', 'yet', 'humbl', 'dust', 'mani', 'ill', 'thing', 'done', 'rais', 'sober', 'fear', 'gratitud', 'mani', 'come', 'near', 'yet', 'avoid', 'return', 'former', 'subject', 'conceiv', 'spark', 'hope', '“', 'master', 'hyde', 'studi', '”', 'thought', '“', 'must', 'secret', 'black', 'secret', 'look', 'secret', 'compar', 'poor', 'jekyl', '’', 'worst', 'would', 'like', 'sunshin', 'thing', 'continu', 'turn', 'cold', 'think', 'creatur', 'steal', 'like', 'thief', 'harri', '’', 'bedsid', 'poor', 'harri', 'waken', 'danger', 'hyde', 'suspect', 'exist', 'may', 'grow', 'impati', 'inherit', 'ay', 'must', 'put', 'shoulder', 'wheel—if', 'jekyl', 'let', '”', 'ad', '“', 'jekyl', 'let', 'me.', '”', 'saw', 'mind', '’', 'eye', 'clear', 'transpar', 'strang', 'claus', 'dr.', 'jekyl', 'quit', 'eas', 'fortnight', 'later', 'excel', 'good', 'fortun', 'doctor', 'gave', 'one', 'pleasant', 'dinner', 'five', 'six', 'old', 'croni', 'intellig', 'reput', 'men', 'judg', 'good', 'wine', 'mr.', 'utterson', 'contriv', 'remain', 'behind', 'other', 'depart', 'new', 'arrang', 'thing', 'befallen', 'mani', 'score', 'time', 'utterson', 'like', 'like', 'well', 'host', 'love', 'detain', 'dri', 'lawyer', 'light-heart', 'loose-tongu', 'alreadi', 'foot', 'threshold', 'like', 'sit', 'unobtrus', 'compani', 'practis', 'solitud', 'sober', 'mind', 'man', '’', 'rich', 'silenc', 'expens', 'strain', 'gaieti', 'rule', 'dr.', 'jekyl', 'except', 'sat', 'opposit', 'side', 'fire—a', 'larg', 'well-mad', 'smooth-fac', 'man', 'fifti', 'someth', 'slyish', 'cast', 'perhap', 'everi', 'mark', 'capac', 'kindness—y', 'could', 'see', 'look', 'cherish', 'mr.', 'utterson', 'sincer', 'warm', 'affect', '“', 'want', 'speak', 'jekyl', '”', 'began', 'latter', '“', 'know', '”', 'close', 'observ', 'might', 'gather', 'topic', 'distast', 'doctor', 'carri', 'gaili', '“', 'poor', 'utterson', '”', 'said', '“', 'unfortun', 'client', 'never', 'saw', 'man', 'distress', 'unless', 'hide-bound', 'pedant', 'lanyon', 'call', 'scientif', 'heresi', 'know', '’', 'good', 'fellow—y', '’', 'frown—an', 'excel', 'fellow', 'alway', 'mean', 'see', 'hide-bound', 'pedant', 'ignor', 'blatant', 'pedant', 'never', 'disappoint', 'man', 'lanyon.', '”', '“', 'know', 'never', 'approv', '”', 'pursu', 'utterson', 'ruthlessli', 'disregard', 'fresh', 'topic', '“', 'ye', 'certainli', 'know', '”', 'said', 'doctor', 'trifl', 'sharpli', '“', 'told', 'so.', '”', '“', 'well', 'tell', '”', 'continu', 'lawyer', '“', 'learn', 'someth', 'young', 'hyde.', '”', 'larg', 'handsom', 'face', 'dr.', 'jekyl', 'grew', 'pale', 'lip', 'came', 'black', 'eye', '“', 'care', 'hear', '”', 'said', '“', 'matter', 'thought', 'agre', 'drop.', '”', '“', 'heard', 'abomin', '”', 'said', 'utterson', '“', 'make', 'chang', 'understand', 'posit', '”', 'return', 'doctor', 'certain', 'incoher', 'manner', '“', 'pain', 'situat', 'utterson', 'posit', 'strange—a', 'strang', 'one', 'one', 'affair', 'mend', 'talking.', '”', '“', 'jekyl', '”', 'said', 'utterson', '“', 'know', 'man', 'trust', 'make', 'clean', 'breast', 'confid', 'make', 'doubt', 'get', 'it.', '”', '“', 'good', 'utterson', '”', 'said', 'doctor', '“', 'good', 'downright', 'good', 'find', 'word', 'thank', 'believ', 'fulli', 'would', 'trust', 'man', 'aliv', 'ay', 'could', 'make', 'choic', 'inde', '’', 'fanci', 'bad', 'put', 'good', 'heart', 'rest', 'tell', 'one', 'thing', 'moment', 'choos', 'rid', 'mr.', 'hyde', 'give', 'hand', 'upon', 'thank', 'add', 'one', 'littl', 'word', 'utterson', '’', 'sure', '’', 'take', 'good', 'part', 'privat', 'matter', 'beg', 'let', 'sleep.', '”', 'utterson', 'reflect', 'littl', 'look', 'fire', '“', 'doubt', 'perfectli', 'right', '”', 'said', 'last', 'get', 'feet', '“', 'well', 'sinc', 'touch', 'upon', 'busi', 'last', 'time', 'hope', '”', 'continu', 'doctor', '“', 'one', 'point', 'like', 'understand', 'realli', 'great', 'interest', 'poor', 'hyde', 'know', 'seen', 'told', 'fear', 'rude', 'sincer', 'take', 'great', 'great', 'interest', 'young', 'man', 'taken', 'away', 'utterson', 'wish', 'promis', 'bear', 'get', 'right', 'think', 'would', 'knew', 'would', 'weight', 'mind', 'would', 'promise.', '”', '“', '’', 'pretend', 'shall', 'ever', 'like', '”', 'said', 'lawyer', '“', '’', 'ask', '”', 'plead', 'jekyl', 'lay', 'hand', 'upon', '’', 'arm', '“', 'ask', 'justic', 'ask', 'help', 'sake', 'longer', 'here.', '”', 'utterson', 'heav', 'irrepress', 'sigh', '“', 'well', '”', 'said', '“', 'promise.', '”', 'carew', 'murder', 'case', 'nearli', 'year', 'later', 'month', 'octob', '18—', 'london', 'startl', 'crime', 'singular', 'feroc', 'render', 'notabl', 'high', 'posit', 'victim', 'detail', 'startl', 'maid', 'servant', 'live', 'alon', 'hous', 'far', 'river', 'gone', 'upstair', 'bed', 'eleven', 'although', 'fog', 'roll', 'citi', 'small', 'hour', 'earli', 'part', 'night', 'cloudless', 'lane', 'maid', '’', 'window', 'overlook', 'brilliantli', 'lit', 'full', 'moon', 'seem', 'romant', 'given', 'sat', 'upon', 'box', 'stood', 'immedi', 'window', 'fell', 'dream', 'muse', 'never', 'use', 'say', 'stream', 'tear', 'narrat', 'experi', 'never', 'felt', 'peac', 'men', 'thought', 'kindli', 'world', 'sat', 'becam', 'awar', 'age', 'beauti', 'gentleman', 'white', 'hair', 'draw', 'near', 'along', 'lane', 'advanc', 'meet', 'anoth', 'small', 'gentleman', 'first', 'paid', 'less', 'attent', 'come', 'within', 'speech', 'maid', '’', 'eye', 'older', 'man', 'bow', 'accost', 'pretti', 'manner', 'polit', 'seem', 'subject', 'address', 'great', 'import', 'inde', 'point', 'sometim', 'appear', 'inquir', 'way', 'moon', 'shone', 'face', 'spoke', 'girl', 'pleas', 'watch', 'seem', 'breath', 'innoc', 'old-world', 'kind', 'disposit', 'yet', 'someth', 'high', 'well-found', 'self-cont', 'present', 'eye', 'wander', 'surpris', 'recognis', 'certain', 'mr.', 'hyde', 'visit', 'master', 'conceiv', 'dislik', 'hand', 'heavi', 'cane', 'trifl', 'answer', 'never', 'word', 'seem', 'listen', 'ill-contain', 'impati', 'sudden', 'broke', 'great', 'flame', 'anger', 'stamp', 'foot', 'brandish', 'cane', 'carri', 'maid', 'describ', 'like', 'madman', 'old', 'gentleman', 'took', 'step', 'back', 'air', 'one', 'much', 'surpris', 'trifl', 'hurt', 'mr.', 'hyde', 'broke', 'bound', 'club', 'earth', 'next', 'moment', 'ape-lik', 'furi', 'trampl', 'victim', 'foot', 'hail', 'storm', 'blow', 'bone', 'audibl', 'shatter', 'bodi', 'jump', 'upon', 'roadway', 'horror', 'sight', 'sound', 'maid', 'faint', 'two', '’', 'clock', 'came', 'call', 'polic', 'murder', 'gone', 'long', 'ago', 'lay', 'victim', 'middl', 'lane', 'incred', 'mangl', 'stick', 'deed', 'done', 'although', 'rare', 'tough', 'heavi', 'wood', 'broken', 'middl', 'stress', 'insens', 'cruelti', 'one', 'splinter', 'half', 'roll', 'neighbour', 'gutter—th', 'without', 'doubt', 'carri', 'away', 'murder', 'purs', 'gold', 'watch', 'found', 'upon', 'victim', 'card', 'paper', 'except', 'seal', 'stamp', 'envelop', 'probabl', 'carri', 'post', 'bore', 'name', 'address', 'mr.', 'utterson', 'brought', 'lawyer', 'next', 'morn', 'bed', 'sooner', 'seen', 'told', 'circumst', 'shot', 'solemn', 'lip', '“', 'shall', 'say', 'noth', 'till', 'seen', 'bodi', '”', 'said', '“', 'may', 'seriou', 'kind', 'wait', 'dress.', '”', 'grave', 'counten', 'hurri', 'breakfast', 'drove', 'polic', 'station', 'whither', 'bodi', 'carri', 'soon', 'came', 'cell', 'nod', '“', 'ye', '”', 'said', '“', 'recognis', 'sorri', 'say', 'sir', 'danver', 'carew.', '”', '“', 'good', 'god', 'sir', '”', 'exclaim', 'offic', '“', 'possibl', '”', 'next', 'moment', 'eye', 'light', 'profession', 'ambit', '“', 'make', 'deal', 'nois', '”', 'said', '“', 'perhap', 'help', 'us', 'man.', '”', 'briefli', 'narrat', 'maid', 'seen', 'show', 'broken', 'stick', 'mr.', 'utterson', 'alreadi', 'quail', 'name', 'hyde', 'stick', 'laid', 'could', 'doubt', 'longer', 'broken', 'batter', 'recognis', 'one', 'present', 'mani', 'year', 'henri', 'jekyl', '“', 'mr.', 'hyde', 'person', 'small', 'statur', '”', 'inquir', '“', 'particularli', 'small', 'particularli', 'wicked-look', 'maid', 'call', '”', 'said', 'offic', 'mr.', 'utterson', 'reflect', 'rais', 'head', '“', 'come', 'cab', '”', 'said', '“', 'think', 'take', 'house.', '”', 'time', 'nine', 'morn', 'first', 'fog', 'season', 'great', 'chocolate-colour', 'pall', 'lower', 'heaven', 'wind', 'continu', 'charg', 'rout', 'embattl', 'vapour', 'cab', 'crawl', 'street', 'street', 'mr.', 'utterson', 'beheld', 'marvel', 'number', 'degre', 'hue', 'twilight', 'would', 'dark', 'like', 'back-end', 'even', 'would', 'glow', 'rich', 'lurid', 'brown', 'like', 'light', 'strang', 'conflagr', 'moment', 'fog', 'would', 'quit', 'broken', 'haggard', 'shaft', 'daylight', 'would', 'glanc', 'swirl', 'wreath', 'dismal', 'quarter', 'soho', 'seen', 'chang', 'glimps', 'muddi', 'way', 'slatternli', 'passeng', 'lamp', 'never', 'extinguish', 'kindl', 'afresh', 'combat', 'mourn', 'reinvas', 'dark', 'seem', 'lawyer', '’', 'eye', 'like', 'district', 'citi', 'nightmar', 'thought', 'mind', 'besid', 'gloomiest', 'dye', 'glanc', 'companion', 'drive', 'consciou', 'touch', 'terror', 'law', 'law', '’', 'offic', 'may', 'time', 'assail', 'honest', 'cab', 'drew', 'address', 'indic', 'fog', 'lift', 'littl', 'show', 'dingi', 'street', 'gin', 'palac', 'low', 'french', 'eat', 'hous', 'shop', 'retail', 'penni', 'number', 'twopenni', 'salad', 'mani', 'rag', 'children', 'huddl', 'doorway', 'mani', 'women', 'mani', 'differ', 'nation', 'pass', 'key', 'hand', 'morn', 'glass', 'next', 'moment', 'fog', 'settl', 'upon', 'part', 'brown', 'umber', 'cut', 'blackguardli', 'surround', 'home', 'henri', 'jekyl', '’', 'favourit', 'man', 'heir', 'quarter', 'million', 'sterl', 'ivory-fac', 'silvery-hair', 'old', 'woman', 'open', 'door', 'evil', 'face', 'smooth', 'hypocrisi', 'manner', 'excel', 'ye', 'said', 'mr.', 'hyde', '’', 'home', 'night', 'late', 'gone', 'away', 'less', 'hour', 'noth', 'strang', 'habit', 'irregular', 'often', 'absent', 'instanc', 'nearli', 'two', 'month', 'sinc', 'seen', 'till', 'yesterday', '“', 'well', 'wish', 'see', 'room', '”', 'said', 'lawyer', 'woman', 'began', 'declar', 'imposs', '“', 'better', 'tell', 'person', '”', 'ad', '“', 'inspector', 'newcomen', 'scotland', 'yard.', '”', 'flash', 'odiou', 'joy', 'appear', 'upon', 'woman', '’', 'face', '“', 'ah', '”', 'said', '“', 'troubl', 'done', '”', 'mr.', 'utterson', 'inspector', 'exchang', 'glanc', '“', '’', 'seem', 'popular', 'charact', '”', 'observ', 'latter', '“', 'good', 'woman', 'let', 'gentleman', 'look', 'us.', '”', 'whole', 'extent', 'hous', 'old', 'woman', 'remain', 'otherwis', 'empti', 'mr.', 'hyde', 'use', 'coupl', 'room', 'furnish', 'luxuri', 'good', 'tast', 'closet', 'fill', 'wine', 'plate', 'silver', 'naperi', 'eleg', 'good', 'pictur', 'hung', 'upon', 'wall', 'gift', 'utterson', 'suppos', 'henri', 'jekyl', 'much', 'connoisseur', 'carpet', 'mani', 'pli', 'agreeabl', 'colour', 'moment', 'howev', 'room', 'bore', 'everi', 'mark', 'recent', 'hurriedli', 'ransack', 'cloth', 'lay', 'floor', 'pocket', 'insid', 'lock-fast', 'drawer', 'stood', 'open', 'hearth', 'lay', 'pile', 'grey', 'ash', 'though', 'mani', 'paper', 'burn', 'ember', 'inspector', 'disint', 'butt', 'end', 'green', 'chequ', 'book', 'resist', 'action', 'fire', 'half', 'stick', 'found', 'behind', 'door', 'clinch', 'suspicion', 'offic', 'declar', 'delight', 'visit', 'bank', 'sever', 'thousand', 'pound', 'found', 'lie', 'murder', '’', 'credit', 'complet', 'gratif', '“', 'may', 'depend', 'upon', 'sir', '”', 'told', 'mr.', 'utterson', '“', 'hand', 'must', 'lost', 'head', 'never', 'would', 'left', 'stick', 'burn', 'chequ', 'book', 'money', '’', 'life', 'man', 'noth', 'wait', 'bank', 'get', 'handbills.', '”', 'last', 'howev', 'easi', 'accomplish', 'mr.', 'hyde', 'number', 'familiars—even', 'master', 'servant', 'maid', 'seen', 'twice', 'famili', 'could', 'nowher', 'trace', 'never', 'photograph', 'could', 'describ', 'differ', 'wide', 'common', 'observ', 'one', 'point', 'agre', 'haunt', 'sens', 'unexpress', 'deform', 'fugit', 'impress', 'behold', 'incid', 'letter', 'late', 'afternoon', 'mr.', 'utterson', 'found', 'way', 'dr.', 'jekyl', '’', 'door', 'admit', 'pool', 'carri', 'kitchen', 'offic', 'across', 'yard', 'garden', 'build', 'indiffer', 'known', 'laboratori', 'dissect', 'room', 'doctor', 'bought', 'hous', 'heir', 'celebr', 'surgeon', 'tast', 'rather', 'chemic', 'anatom', 'chang', 'destin', 'block', 'bottom', 'garden', 'first', 'time', 'lawyer', 'receiv', 'part', 'friend', '’', 'quarter', 'eye', 'dingi', 'windowless', 'structur', 'curios', 'gaze', 'round', 'distast', 'sens', 'strang', 'cross', 'theatr', 'crowd', 'eager', 'student', 'lie', 'gaunt', 'silent', 'tabl', 'laden', 'chemic', 'apparatu', 'floor', 'strewn', 'crate', 'litter', 'pack', 'straw', 'light', 'fall', 'dimli', 'foggi', 'cupola', 'end', 'flight', 'stair', 'mount', 'door', 'cover', 'red', 'baiz', 'mr.', 'utterson', 'last', 'receiv', 'doctor', '’', 'cabinet', 'larg', 'room', 'fit', 'round', 'glass', 'press', 'furnish', 'among', 'thing', 'cheval-glass', 'busi', 'tabl', 'look', 'upon', 'court', 'three', 'dusti', 'window', 'bar', 'iron', 'fire', 'burn', 'grate', 'lamp', 'set', 'light', 'chimney', 'shelf', 'even', 'hous', 'fog', 'began', 'lie', 'thickli', 'close', 'warmth', 'sat', 'dr.', 'jekyl', 'look', 'deathli', 'sick', 'rise', 'meet', 'visitor', 'held', 'cold', 'hand', 'bade', 'welcom', 'chang', 'voic', '“', '”', 'said', 'mr.', 'utterson', 'soon', 'pool', 'left', '“', 'heard', 'news', '”', 'doctor', 'shudder', '“', 'cri', 'squar', '”', 'said', '“', 'heard', 'dining-room.', '”', '“', 'one', 'word', '”', 'said', 'lawyer', '“', 'carew', 'client', 'want', 'know', 'mad', 'enough', 'hide', 'fellow', '”', '“', 'utterson', 'swear', 'god', '”', 'cri', 'doctor', '“', 'swear', 'god', 'never', 'set', 'eye', 'bind', 'honour', 'done', 'world', 'end', 'inde', 'want', 'help', 'know', 'safe', 'quit', 'safe', 'mark', 'word', 'never', 'heard', 'of.', '”', 'lawyer', 'listen', 'gloomili', 'like', 'friend', '’', 'feverish', 'manner', '“', 'seem', 'pretti', 'sure', '”', 'said', '“', 'sake', 'hope', 'may', 'right', 'came', 'trial', 'name', 'might', 'appear.', '”', '“', 'quit', 'sure', '”', 'repli', 'jekyl', '“', 'ground', 'certainti', 'share', 'one', 'one', 'thing', 'may', 'advis', 'have—i', 'receiv', 'letter', 'loss', 'whether', 'show', 'polic', 'like', 'leav', 'hand', 'utterson', 'would', 'judg', 'wise', 'sure', 'great', 'trust', 'you.', '”', '“', 'fear', 'suppos', 'might', 'lead', 'detect', '”', 'ask', 'lawyer', '“', '”', 'said', '“', 'say', 'care', 'becom', 'hyde', 'quit', 'done', 'think', 'charact', 'hate', 'busi', 'rather', 'exposed.', '”', 'utterson', 'rumin', 'awhil', 'surpris', 'friend', '’', 'selfish', 'yet', 'reliev', '“', 'well', '”', 'said', 'last', '“', 'let', 'see', 'letter.', '”', 'letter', 'written', 'odd', 'upright', 'hand', 'sign', '“', 'edward', 'hyde', '”', 'signifi', 'briefli', 'enough', 'writer', '’', 'benefactor', 'dr.', 'jekyl', 'long', 'unworthili', 'repaid', 'thousand', 'generos', 'need', 'labour', 'alarm', 'safeti', 'mean', 'escap', 'place', 'sure', 'depend', 'lawyer', 'like', 'letter', 'well', 'enough', 'put', 'better', 'colour', 'intimaci', 'look', 'blame', 'past', 'suspicion', '“', 'envelop', '”', 'ask', '“', 'burn', '”', 'repli', 'jekyl', '“', 'thought', 'bore', 'postmark', 'note', 'hand', 'in.', '”', '“', 'shall', 'keep', 'sleep', 'upon', '”', 'ask', 'utterson', '“', 'wish', 'judg', 'entir', '”', 'repli', '“', 'lost', 'confid', 'myself.', '”', '“', 'well', 'shall', 'consid', '”', 'return', 'lawyer', '“', 'one', 'word', 'hyde', 'dictat', 'term', 'disappear', '”', 'doctor', 'seem', 'seiz', 'qualm', 'faint', 'shut', 'mouth', 'tight', 'nod', '“', 'knew', '”', 'said', 'utterson', '“', 'meant', 'murder', 'fine', 'escape.', '”', '“', 'far', 'purpos', '”', 'return', 'doctor', 'solemnli', '“', 'lesson—o', 'god', 'utterson', 'lesson', '”', 'cover', 'face', 'moment', 'hand', 'way', 'lawyer', 'stop', 'word', 'two', 'pool', '“', 'bye', '”', 'said', '“', 'letter', 'hand', 'to-day', 'messeng', 'like', '”', 'pool', 'posit', 'noth', 'come', 'except', 'post', '“', 'circular', '”', 'ad', 'news', 'sent', 'visitor', 'fear', 'renew', 'plainli', 'letter', 'come', 'laboratori', 'door', 'possibl', 'inde', 'written', 'cabinet', 'must', 'differ', 'judg', 'handl', 'caution', 'newsboy', 'went', 'cri', 'hoars', 'along', 'footway', '“', 'special', 'edit', 'shock', 'murder', 'm.p.', '”', 'funer', 'orat', 'one', 'friend', 'client', 'could', 'help', 'certain', 'apprehens', 'lest', 'good', 'name', 'anoth', 'suck', 'eddi', 'scandal', 'least', 'ticklish', 'decis', 'make', 'self-reli', 'habit', 'began', 'cherish', 'long', 'advic', 'directli', 'perhap', 'thought', 'might', 'fish', 'present', 'sat', 'one', 'side', 'hearth', 'mr.', 'guest', 'head', 'clerk', 'upon', 'midway', 'nice', 'calcul', 'distanc', 'fire', 'bottl', 'particular', 'old', 'wine', 'long', 'dwelt', 'unsun', 'foundat', 'hous', 'fog', 'still', 'slept', 'wing', 'drown', 'citi', 'lamp', 'glimmer', 'like', 'carbuncl', 'muffl', 'smother', 'fallen', 'cloud', 'process', 'town', '’', 'life', 'still', 'roll', 'great', 'arteri', 'sound', 'mighti', 'wind', 'room', 'gay', 'firelight', 'bottl', 'acid', 'long', 'ago', 'resolv', 'imperi', 'dye', 'soften', 'time', 'colour', 'grow', 'richer', 'stain', 'window', 'glow', 'hot', 'autumn', 'afternoon', 'hillsid', 'vineyard', 'readi', 'set', 'free', 'dispers', 'fog', 'london', 'insens', 'lawyer', 'melt', 'man', 'kept', 'fewer', 'secret', 'mr.', 'guest', 'alway', 'sure', 'kept', 'mani', 'meant', 'guest', 'often', 'busi', 'doctor', '’', 'knew', 'pool', 'could', 'scarc', 'fail', 'hear', 'mr.', 'hyde', '’', 'familiar', 'hous', 'might', 'draw', 'conclus', 'well', 'see', 'letter', 'put', 'mysteri', 'right', 'sinc', 'guest', 'great', 'student', 'critic', 'handwrit', 'would', 'consid', 'step', 'natur', 'oblig', 'clerk', 'besid', 'man', 'counsel', 'could', 'scarc', 'read', 'strang', 'document', 'without', 'drop', 'remark', 'remark', 'mr.', 'utterson', 'might', 'shape', 'futur', 'cours', '“', 'sad', 'busi', 'sir', 'danver', '”', 'said', '“', 'ye', 'sir', 'inde', 'elicit', 'great', 'deal', 'public', 'feel', '”', 'return', 'guest', '“', 'man', 'cours', 'mad.', '”', '“', 'like', 'hear', 'view', '”', 'repli', 'utterson', '“', 'document', 'handwrit', 'scarc', 'know', 'ugli', 'busi', 'best', 'quit', 'way', 'murder', '’', 'autograph.', '”', 'guest', '’', 'eye', 'brighten', 'sat', 'studi', 'passion', '“', 'sir', '”', 'said', '“', 'mad', 'odd', 'hand.', '”', '“', 'account', 'odd', 'writer', '”', 'ad', 'lawyer', 'servant', 'enter', 'note', '“', 'dr.', 'jekyl', 'sir', '”', 'inquir', 'clerk', '“', 'thought', 'knew', 'write', 'anyth', 'privat', 'mr.', 'utterson', '”', '“', 'invit', 'dinner', 'want', 'see', '”', '“', 'one', 'moment', 'thank', 'sir', '”', 'clerk', 'laid', 'two', 'sheet', 'paper', 'alongsid', 'sedul', 'compar', 'content', '“', 'thank', 'sir', '”', 'said', 'last', 'return', '“', '’', 'interest', 'autograph.', '”', 'paus', 'mr.', 'utterson', 'struggl', '“', 'compar', 'guest', '”', 'inquir', 'suddenli', '“', 'well', 'sir', '”', 'return', 'clerk', '“', '’', 'rather', 'singular', 'resembl', 'two', 'hand', 'mani', 'point', 'ident', 'differ', 'sloped.', '”', '“', 'rather', 'quaint', '”', 'said', 'utterson', '“', 'say', 'rather', 'quaint', '”', 'return', 'guest', '“', '’', 'speak', 'note', 'know', '”', 'said', 'master', '“', 'sir', '”', 'said', 'clerk', '“', 'understand.', '”', 'sooner', 'mr.', 'utterson', 'alon', 'night', 'lock', 'note', 'safe', 'repos', 'time', 'forward', '“', '”', 'thought', '“', 'henri', 'jekyl', 'forg', 'murder', '”', 'blood', 'ran', 'cold', 'vein', 'incid', 'dr.', 'lanyon', 'time', 'ran', 'thousand', 'pound', 'offer', 'reward', 'death', 'sir', 'danver', 'resent', 'public', 'injuri', 'mr.', 'hyde', 'disappear', 'ken', 'polic', 'though', 'never', 'exist', 'much', 'past', 'unearth', 'inde', 'disreput', 'tale', 'came', 'man', '’', 'cruelti', 'callou', 'violent', 'vile', 'life', 'strang', 'associ', 'hatr', 'seem', 'surround', 'career', 'present', 'whereabout', 'whisper', 'time', 'left', 'hous', 'soho', 'morn', 'murder', 'simpli', 'blot', 'gradual', 'time', 'drew', 'mr.', 'utterson', 'began', 'recov', 'hot', 'alarm', 'grow', 'quiet', 'death', 'sir', 'danver', 'way', 'think', 'paid', 'disappear', 'mr.', 'hyde', 'evil', 'influenc', 'withdrawn', 'new', 'life', 'began', 'dr.', 'jekyl', 'came', 'seclus', 'renew', 'relat', 'friend', 'becam', 'familiar', 'guest', 'entertain', 'whilst', 'alway', 'known', 'chariti', 'less', 'distinguish', 'religion', 'busi', 'much', 'open', 'air', 'good', 'face', 'seem', 'open', 'brighten', 'inward', 'conscious', 'servic', 'two', 'month', 'doctor', 'peac', '8th', 'januari', 'utterson', 'dine', 'doctor', '’', 'small', 'parti', 'lanyon', 'face', 'host', 'look', 'one', 'old', 'day', 'trio', 'insepar', 'friend', '12th', '14th', 'door', 'shut', 'lawyer', '“', 'doctor', 'confin', 'hous', '”', 'pool', 'said', '“', 'saw', 'one.', '”', '15th', 'tri', 'refus', 'use', 'last', 'two', 'month', 'see', 'friend', 'almost', 'daili', 'found', 'return', 'solitud', 'weigh', 'upon', 'spirit', 'fifth', 'night', 'guest', 'dine', 'sixth', 'betook', 'dr.', 'lanyon', '’', 'least', 'deni', 'admitt', 'came', 'shock', 'chang', 'taken', 'place', 'doctor', '’', 'appear', 'death-warr', 'written', 'legibl', 'upon', 'face', 'rosi', 'man', 'grown', 'pale', 'flesh', 'fallen', 'away', 'visibl', 'balder', 'older', 'yet', 'much', 'token', 'swift', 'physic', 'decay', 'arrest', 'lawyer', '’', 'notic', 'look', 'eye', 'qualiti', 'manner', 'seem', 'testifi', 'deep-seat', 'terror', 'mind', 'unlik', 'doctor', 'fear', 'death', 'yet', 'utterson', 'tempt', 'suspect', '“', 'ye', '”', 'thought', '“', 'doctor', 'must', 'know', 'state', 'day', 'count', 'knowledg', 'bear.', '”', 'yet', 'utterson', 'remark', 'ill', 'look', 'air', 'great', 'firm', 'lanyon', 'declar', 'doom', 'man', '“', 'shock', '”', 'said', '“', 'shall', 'never', 'recov', 'question', 'week', 'well', 'life', 'pleasant', 'like', 'ye', 'sir', 'use', 'like', 'sometim', 'think', 'knew', 'glad', 'get', 'away.', '”', '“', 'jekyl', 'ill', '”', 'observ', 'utterson', '“', 'seen', '”', 'lanyon', '’', 'face', 'chang', 'held', 'trembl', 'hand', '“', 'wish', 'see', 'hear', 'dr.', 'jekyl', '”', 'said', 'loud', 'unsteadi', 'voic', '“', 'quit', 'done', 'person', 'beg', 'spare', 'allus', 'one', 'regard', 'dead.', '”', '“', 'tut', 'tut', '”', 'said', 'mr.', 'utterson', 'consider', 'paus', '“', '’', 'anyth', '”', 'inquir', '“', 'three', 'old', 'friend', 'lanyon', 'shall', 'live', 'make', 'others.', '”', '“', 'noth', 'done', '”', 'return', 'lanyon', '“', 'ask', 'himself.', '”', '“', 'see', '”', 'said', 'lawyer', '“', 'surpris', '”', 'repli', '“', 'day', 'utterson', 'dead', 'may', 'perhap', 'come', 'learn', 'right', 'wrong', 'tell', 'meantim', 'sit', 'talk', 'thing', 'god', '’', 'sake', 'stay', 'keep', 'clear', 'accurs', 'topic', 'god', '’', 'name', 'go', 'bear', 'it.', '”', 'soon', 'got', 'home', 'utterson', 'sat', 'wrote', 'jekyl', 'complain', 'exclus', 'hous', 'ask', 'caus', 'unhappi', 'break', 'lanyon', 'next', 'day', 'brought', 'long', 'answer', 'often', 'pathet', 'word', 'sometim', 'darkli', 'mysteri', 'drift', 'quarrel', 'lanyon', 'incur', '“', 'blame', 'old', 'friend', '”', 'jekyl', 'wrote', '“', 'share', 'view', 'must', 'never', 'meet', 'mean', 'henceforth', 'lead', 'life', 'extrem', 'seclus', 'must', 'surpris', 'must', 'doubt', 'friendship', 'door', 'often', 'shut', 'even', 'must', 'suffer', 'go', 'dark', 'way', 'brought', 'punish', 'danger', 'name', 'chief', 'sinner', 'chief', 'suffer', 'also', 'could', 'think', 'earth', 'contain', 'place', 'suffer', 'terror', 'unman', 'one', 'thing', 'utterson', 'lighten', 'destini', 'respect', 'silence.', '”', 'utterson', 'amaz', 'dark', 'influenc', 'hyde', 'withdrawn', 'doctor', 'return', 'old', 'task', 'amiti', 'week', 'ago', 'prospect', 'smile', 'everi', 'promis', 'cheer', 'honour', 'age', 'moment', 'friendship', 'peac', 'mind', 'whole', 'tenor', 'life', 'wreck', 'great', 'unprepar', 'chang', 'point', 'mad', 'view', 'lanyon', '’', 'manner', 'word', 'must', 'lie', 'deeper', 'ground', 'week', 'afterward', 'dr.', 'lanyon', 'took', 'bed', 'someth', 'less', 'fortnight', 'dead', 'night', 'funer', 'sadli', 'affect', 'utterson', 'lock', 'door', 'busi', 'room', 'sit', 'light', 'melancholi', 'candl', 'drew', 'set', 'envelop', 'address', 'hand', 'seal', 'seal', 'dead', 'friend', '“', 'privat', 'hand', 'g.', 'j.', 'utterson', 'alon', 'case', 'predeceas', '_to', 'destroy', 'unread_', '”', 'emphat', 'superscrib', 'lawyer', 'dread', 'behold', 'content', '“', 'buri', 'one', 'friend', 'to-day', '”', 'thought', '“', 'cost', 'anoth', '”', 'condemn', 'fear', 'disloyalti', 'broke', 'seal', 'within', 'anoth', 'enclosur', 'likewis', 'seal', 'mark', 'upon', 'cover', '“', 'open', 'till', 'death', 'disappear', 'dr.', 'henri', 'jekyll.', '”', 'utterson', 'could', 'trust', 'eye', 'ye', 'disappear', 'mad', 'long', 'ago', 'restor', 'author', 'idea', 'disappear', 'name', 'henri', 'jekyl', 'bracket', 'idea', 'sprung', 'sinist', 'suggest', 'man', 'hyde', 'set', 'purpos', 'plain', 'horribl', 'written', 'hand', 'lanyon', 'mean', 'great', 'curios', 'came', 'truste', 'disregard', 'prohibit', 'dive', 'bottom', 'mysteri', 'profession', 'honour', 'faith', 'dead', 'friend', 'stringent', 'oblig', 'packet', 'slept', 'inmost', 'corner', 'privat', 'safe', 'one', 'thing', 'mortifi', 'curios', 'anoth', 'conquer', 'may', 'doubt', 'day', 'forth', 'utterson', 'desir', 'societi', 'surviv', 'friend', 'eager', 'thought', 'kindli', 'thought', 'disquiet', 'fear', 'went', 'call', 'inde', 'perhap', 'reliev', 'deni', 'admitt', 'perhap', 'heart', 'prefer', 'speak', 'pool', 'upon', 'doorstep', 'surround', 'air', 'sound', 'open', 'citi', 'rather', 'admit', 'hous', 'voluntari', 'bondag', 'sit', 'speak', 'inscrut', 'reclus', 'pool', 'inde', 'pleasant', 'news', 'commun', 'doctor', 'appear', 'ever', 'confin', 'cabinet', 'laboratori', 'would', 'sometim', 'even', 'sleep', 'spirit', 'grown', 'silent', 'read', 'seem', 'someth', 'mind', 'utterson', 'becam', 'use', 'unvari', 'charact', 'report', 'fell', 'littl', 'littl', 'frequenc', 'visit', 'incid', 'window', 'chanc', 'sunday', 'mr.', 'utterson', 'usual', 'walk', 'mr.', 'enfield', 'way', 'lay', 'by-street', 'came', 'front', 'door', 'stop', 'gaze', '“', 'well', '”', 'said', 'enfield', '“', 'stori', '’', 'end', 'least', 'shall', 'never', 'see', 'mr.', 'hyde.', '”', '“', 'hope', '”', 'said', 'utterson', '“', 'ever', 'tell', 'saw', 'share', 'feel', 'repuls', '”', '“', 'imposs', 'one', 'without', '”', 'return', 'enfield', '“', 'way', 'ass', 'must', 'thought', 'know', 'back', 'way', 'dr.', 'jekyl', '’', 'partli', 'fault', 'found', 'even', 'did.', '”', '“', 'found', '”', 'said', 'utterson', '“', 'may', 'step', 'court', 'take', 'look', 'window', 'tell', 'truth', 'uneasi', 'poor', 'jekyl', 'even', 'outsid', 'feel', 'presenc', 'friend', 'might', 'good.', '”', 'court', 'cool', 'littl', 'damp', 'full', 'prematur', 'twilight', 'although', 'sky', 'high', 'overhead', 'still', 'bright', 'sunset', 'middl', 'one', 'three', 'window', 'half-way', 'open', 'sit', 'close', 'besid', 'take', 'air', 'infinit', 'sad', 'mien', 'like', 'disconsol', 'prison', 'utterson', 'saw', 'dr.', 'jekyl', '“', 'jekyl', '”', 'cri', '“', 'trust', 'better.', '”', '“', 'low', 'utterson', '”', 'repli', 'doctor', 'drearili', '“', 'low', 'last', 'long', 'thank', 'god.', '”', '“', 'stay', 'much', 'indoor', '”', 'said', 'lawyer', '“', 'whip', 'circul', 'like', 'mr.', 'enfield', 'cousin—mr', 'enfield—dr', 'jekyl', 'come', 'get', 'hat', 'take', 'quick', 'turn', 'us.', '”', '“', 'good', '”', 'sigh', '“', 'like', 'much', 'quit', 'imposs', 'dare', 'inde', 'utterson', 'glad', 'see', 'realli', 'great', 'pleasur', 'would', 'ask', 'mr.', 'enfield', 'place', 'realli', 'fit.', '”', '“', '”', 'said', 'lawyer', 'good-naturedli', '“', 'best', 'thing', 'stay', 'speak', 'are.', '”', '“', 'ventur', 'propos', '”', 'return', 'doctor', 'smile', 'word', 'hardli', 'utter', 'smile', 'struck', 'face', 'succeed', 'express', 'abject', 'terror', 'despair', 'froze', 'blood', 'two', 'gentlemen', 'saw', 'glimps', 'window', 'instantli', 'thrust', 'glimps', 'suffici', 'turn', 'left', 'court', 'without', 'word', 'silenc', 'travers', 'by-street', 'come', 'neighbour', 'thoroughfar', 'even', 'upon', 'sunday', 'still', 'stir', 'life', 'mr.', 'utterson', 'last', 'turn', 'look', 'companion', 'pale', 'answer', 'horror', 'eye', '“', 'god', 'forgiv', 'us', 'god', 'forgiv', 'us', '”', 'said', 'mr.', 'utterson', 'mr.', 'enfield', 'nod', 'head', 'serious', 'walk', 'silenc', 'last', 'night', 'mr.', 'utterson', 'sit', 'firesid', 'one', 'even', 'dinner', 'surpris', 'receiv', 'visit', 'pool', '“', 'bless', 'pool', 'bring', '”', 'cri', 'take', 'second', 'look', '“', 'ail', '”', 'ad', '“', 'doctor', 'ill', '”', '“', 'mr', 'utterson', '”', 'said', 'man', '“', 'someth', 'wrong.', '”', '“', 'take', 'seat', 'glass', 'wine', '”', 'said', 'lawyer', '“', 'take', 'time', 'tell', 'plainli', 'want.', '”', '“', 'know', 'doctor', '’', 'way', 'sir', '”', 'repli', 'pool', '“', 'shut', 'well', '’', 'shut', 'cabinet', '’', 'like', 'sir—i', 'wish', 'may', 'die', 'like', 'mr.', 'utterson', 'sir', '’', 'afraid.', '”', '“', 'good', 'man', '”', 'said', 'lawyer', '“', 'explicit', 'afraid', '”', '“', '’', 'afraid', 'week', '”', 'return', 'pool', 'doggedli', 'disregard', 'question', '“', 'bear', 'more.', '”', 'man', '’', 'appear', 'ampli', 'bore', 'word', 'manner', 'alter', 'wors', 'except', 'moment', 'first', 'announc', 'terror', 'look', 'lawyer', 'face', 'even', 'sat', 'glass', 'wine', 'untast', 'knee', 'eye', 'direct', 'corner', 'floor', '“', 'bear', '”', 'repeat', '“', 'come', '”', 'said', 'lawyer', '“', 'see', 'good', 'reason', 'pool', 'see', 'someth', 'serious', 'amiss', 'tri', 'tell', 'is.', '”', '“', 'think', '’', 'foul', 'play', '”', 'said', 'pool', 'hoars', '“', 'foul', 'play', '”', 'cri', 'lawyer', 'good', 'deal', 'frighten', 'rather', 'inclin', 'irrit', 'consequ', '“', 'foul', 'play', 'man', 'mean', '”', '“', 'daren', '’', 'say', 'sir', '”', 'answer', '“', 'come', 'along', 'see', '”', 'mr.', 'utterson', '’', 'answer', 'rise', 'get', 'hat', 'greatcoat', 'observ', 'wonder', 'great', 'relief', 'appear', 'upon', 'butler', '’', 'face', 'perhap', 'less', 'wine', 'still', 'untast', 'set', 'follow', 'wild', 'cold', 'season', 'night', 'march', 'pale', 'moon', 'lie', 'back', 'though', 'wind', 'tilt', 'fli', 'wrack', 'diaphan', 'lawni', 'textur', 'wind', 'made', 'talk', 'difficult', 'fleck', 'blood', 'face', 'seem', 'swept', 'street', 'unusu', 'bare', 'passeng', 'besid', 'mr.', 'utterson', 'thought', 'never', 'seen', 'part', 'london', 'desert', 'could', 'wish', 'otherwis', 'never', 'life', 'consciou', 'sharp', 'wish', 'see', 'touch', 'fellow-creatur', 'struggl', 'might', 'born', 'upon', 'mind', 'crush', 'anticip', 'calam', 'squar', 'got', 'full', 'wind', 'dust', 'thin', 'tree', 'garden', 'lash', 'along', 'rail', 'pool', 'kept', 'way', 'pace', 'two', 'ahead', 'pull', 'middl', 'pavement', 'spite', 'bite', 'weather', 'took', 'hat', 'mop', 'brow', 'red', 'pocket-handkerchief', 'hurri', 'come', 'dew', 'exert', 'wipe', 'away', 'moistur', 'strangl', 'anguish', 'face', 'white', 'voic', 'spoke', 'harsh', 'broken', '“', 'well', 'sir', '”', 'said', '“', 'god', 'grant', 'noth', 'wrong.', '”', '“', 'amen', 'pool', '”', 'said', 'lawyer', 'thereupon', 'servant', 'knock', 'guard', 'manner', 'door', 'open', 'chain', 'voic', 'ask', 'within', '“', 'pool', '”', '“', '’', 'right', '”', 'said', 'pool', '“', 'open', 'door.', '”', 'hall', 'enter', 'brightli', 'light', 'fire', 'built', 'high', 'hearth', 'whole', 'servant', 'men', 'women', 'stood', 'huddl', 'togeth', 'like', 'flock', 'sheep', 'sight', 'mr.', 'utterson', 'housemaid', 'broke', 'hyster', 'whimper', 'cook', 'cri', '“', 'bless', 'god', '’', 'mr.', 'utterson', '”', 'ran', 'forward', 'take', 'arm', '“', '”', 'said', 'lawyer', 'peevishli', '“', 'irregular', 'unseemli', 'master', 'would', 'far', 'pleased.', '”', '“', '’', 'afraid', '”', 'said', 'pool', 'blank', 'silenc', 'follow', 'one', 'protest', 'maid', 'lift', 'voic', 'wept', 'loudli', '“', 'hold', 'tongu', '”', 'pool', 'said', 'feroc', 'accent', 'testifi', 'jangl', 'nerv', 'inde', 'girl', 'suddenli', 'rais', 'note', 'lament', 'start', 'turn', 'toward', 'inner', 'door', 'face', 'dread', 'expect', '“', '”', 'continu', 'butler', 'address', 'knife-boy', '“', 'reach', 'candl', '’', 'get', 'hand', 'once.', '”', 'beg', 'mr.', 'utterson', 'follow', 'led', 'way', 'back', 'garden', '“', 'sir', '”', 'said', '“', 'come', 'gentli', 'want', 'hear', '’', 'want', 'heard', 'see', 'sir', 'chanc', 'ask', '’', 'go.', '”', 'mr.', 'utterson', '’', 'nerv', 'unlooked-for', 'termin', 'gave', 'jerk', 'nearli', 'threw', 'balanc', 'recollect', 'courag', 'follow', 'butler', 'laboratori', 'build', 'surgic', 'theatr', 'lumber', 'crate', 'bottl', 'foot', 'stair', 'pool', 'motion', 'stand', 'one', 'side', 'listen', 'set', 'candl', 'make', 'great', 'obviou', 'call', 'resolut', 'mount', 'step', 'knock', 'somewhat', 'uncertain', 'hand', 'red', 'baiz', 'cabinet', 'door', '“', 'mr', 'utterson', 'sir', 'ask', 'see', '”', 'call', 'even', 'violent', 'sign', 'lawyer', 'give', 'ear', 'voic', 'answer', 'within', '“', 'tell', 'see', 'anyon', '”', 'said', 'complainingli', '“', 'thank', 'sir', '”', 'said', 'pool', 'note', 'someth', 'like', 'triumph', 'voic', 'take', 'candl', 'led', 'mr.', 'utterson', 'back', 'across', 'yard', 'great', 'kitchen', 'fire', 'beetl', 'leap', 'floor', '“', 'sir', '”', 'said', 'look', 'mr.', 'utterson', 'eye', '“', 'master', '’', 'voic', '”', '“', 'seem', 'much', 'chang', '”', 'repli', 'lawyer', 'pale', 'give', 'look', 'look', '“', 'chang', 'well', 'ye', 'think', '”', 'said', 'butler', '“', 'twenti', 'year', 'man', '’', 'hous', 'deceiv', 'voic', 'sir', 'master', '’', 'made', 'away', 'made', 'away', 'eight', 'day', 'ago', 'heard', 'cri', 'upon', 'name', 'god', '_who', '’', 's_', 'instead', '_why_', 'stay', 'thing', 'cri', 'heaven', 'mr.', 'utterson', '”', '“', 'strang', 'tale', 'pool', 'rather', 'wild', 'tale', 'man', '”', 'said', 'mr.', 'utterson', 'bite', 'finger', '“', 'suppos', 'suppos', 'suppos', 'dr.', 'jekyl', 'been—wel', 'murder', 'could', 'induc', 'murder', 'stay', '’', 'hold', 'water', '’', 'commend', 'reason.', '”', '“', 'well', 'mr.', 'utterson', 'hard', 'man', 'satisfi', '’', 'yet', '”', 'said', 'pool', '“', 'last', 'week', 'must', 'know', 'whatev', 'live', 'cabinet', 'cri', 'night', 'day', 'sort', 'medicin', 'get', 'mind', 'sometim', 'way—th', 'master', '’', 'is—to', 'write', 'order', 'sheet', 'paper', 'throw', 'stair', '’', 'noth', 'els', 'week', 'back', 'noth', 'paper', 'close', 'door', 'meal', 'left', 'smuggl', 'nobodi', 'look', 'well', 'sir', 'everi', 'day', 'ay', 'twice', 'thrice', 'day', 'order', 'complaint', 'sent', 'fli', 'wholesal', 'chemist', 'town', 'everi', 'time', 'brought', 'stuff', 'back', 'would', 'anoth', 'paper', 'tell', 'return', 'pure', 'anoth', 'order', 'differ', 'firm', 'drug', 'want', 'bitter', 'bad', 'sir', 'whatev', 'for.', '”', '“', 'paper', '”', 'ask', 'mr.', 'utterson', 'pool', 'felt', 'pocket', 'hand', 'crumpl', 'note', 'lawyer', 'bend', 'nearer', 'candl', 'care', 'examin', 'content', 'ran', 'thu', '“', 'dr', 'jekyl', 'present', 'compliment', 'messrs.', 'maw', 'assur', 'last', 'sampl', 'impur', 'quit', 'useless', 'present', 'purpos', 'year', '18—', 'dr.', 'j.', 'purchas', 'somewhat', 'larg', 'quantiti', 'messrs.', 'm.', 'beg', 'search', 'sedul', 'care', 'qualiti', 'left', 'forward', 'expens', 'consider', 'import', 'dr.', 'j.', 'hardli', 'exaggerated.', '”', 'far', 'letter', 'run', 'composedli', 'enough', 'sudden', 'splutter', 'pen', 'writer', '’', 'emot', 'broken', 'loos', '“', 'god', '’', 'sake', '”', 'ad', '“', 'find', 'old.', '”', '“', 'strang', 'note', '”', 'said', 'mr.', 'utterson', 'sharpli', '“', 'come', 'open', '”', '“', 'man', 'maw', '’', 'main', 'angri', 'sir', 'threw', 'back', 'like', 'much', 'dirt', '”', 'return', 'pool', '“', 'unquestion', 'doctor', '’', 'hand', 'know', '”', 'resum', 'lawyer', '“', 'thought', 'look', 'like', '”', 'said', 'servant', 'rather', 'sulkili', 'anoth', 'voic', '“', 'matter', 'hand', 'write', '”', 'said', '“', '’', 'seen', '”', '“', 'seen', '”', 'repeat', 'mr.', 'utterson', '“', 'well', '”', '“', '’', '”', 'said', 'pool', '“', 'way', 'came', 'suddenli', 'theatr', 'garden', 'seem', 'slip', 'look', 'drug', 'whatev', 'cabinet', 'door', 'open', 'far', 'end', 'room', 'dig', 'among', 'crate', 'look', 'came', 'gave', 'kind', 'cri', 'whip', 'upstair', 'cabinet', 'one', 'minut', 'saw', 'hair', 'stood', 'upon', 'head', 'like', 'quill', 'sir', 'master', 'mask', 'upon', 'face', 'master', 'cri', 'like', 'rat', 'run', 'serv', 'long', 'enough', '...', '”', 'man', 'paus', 'pass', 'hand', 'face', '“', 'strang', 'circumst', '”', 'said', 'mr.', 'utterson', '“', 'think', 'begin', 'see', 'daylight', 'master', 'pool', 'plainli', 'seiz', 'one', 'maladi', 'tortur', 'deform', 'suffer', 'henc', 'aught', 'know', 'alter', 'voic', 'henc', 'mask', 'avoid', 'friend', 'henc', 'eager', 'find', 'drug', 'mean', 'poor', 'soul', 'retain', 'hope', 'ultim', 'recovery—god', 'grant', 'deceiv', 'explan', 'sad', 'enough', 'pool', 'ay', 'appal', 'consid', 'plain', 'natur', 'hang', 'well', 'togeth', 'deliv', 'us', 'exorbit', 'alarms.', '”', '“', 'sir', '”', 'said', 'butler', 'turn', 'sort', 'mottl', 'pallor', '“', 'thing', 'master', '’', 'truth', 'master', '”', '—here', 'look', 'round', 'began', 'whisper—', '“', 'tall', 'fine', 'build', 'man', 'dwarf.', '”', 'utterson', 'attempt', 'protest', '“', 'sir', '”', 'cri', 'pool', '“', 'think', 'know', 'master', 'twenti', 'year', 'think', 'know', 'head', 'come', 'cabinet', 'door', 'saw', 'everi', 'morn', 'life', 'sir', 'thing', 'mask', 'never', 'dr.', 'jekyll—god', 'know', 'never', 'dr.', 'jekyl', 'belief', 'heart', 'murder', 'done.', '”', '“', 'pool', '”', 'repli', 'lawyer', '“', 'say', 'becom', 'duti', 'make', 'certain', 'much', 'desir', 'spare', 'master', '’', 'feel', 'much', 'puzzl', 'note', 'seem', 'prove', 'still', 'aliv', 'shall', 'consid', 'duti', 'break', 'door.', '”', '“', 'ah', 'mr.', 'utterson', '’', 'talk', '”', 'cri', 'butler', '“', 'come', 'second', 'question', '”', 'resum', 'utterson', '“', 'go', '”', '“', 'sir', '”', 'undaunt', 'repli', '“', '’', 'well', 'said', '”', 'return', 'lawyer', '“', 'whatev', 'come', 'shall', 'make', 'busi', 'see', 'loser.', '”', '“', 'axe', 'theatr', '”', 'continu', 'pool', '“', 'might', 'take', 'kitchen', 'poker', 'yourself.', '”', 'lawyer', 'took', 'rude', 'weighti', 'instrument', 'hand', 'balanc', '“', 'know', 'pool', '”', 'said', 'look', '“', 'place', 'posit', 'peril', '”', '“', 'may', 'say', 'sir', 'inde', '”', 'return', 'butler', '“', 'well', 'frank', '”', 'said', '“', 'think', 'said', 'let', 'us', 'make', 'clean', 'breast', 'mask', 'figur', 'saw', 'recognis', '”', '“', 'well', 'sir', 'went', 'quick', 'creatur', 'doubl', 'could', 'hardli', 'swear', '”', 'answer', '“', 'mean', 'mr.', 'hyde', '—whi', 'ye', 'think', 'see', 'much', 'big', 'quick', 'light', 'way', 'els', 'could', 'got', 'laboratori', 'door', 'forgot', 'sir', 'time', 'murder', 'still', 'key', '’', '’', 'know', 'mr.', 'utterson', 'ever', 'met', 'mr.', 'hyde', '”', '“', 'ye', '”', 'said', 'lawyer', '“', 'spoke', 'him.', '”', '“', 'must', 'know', 'well', 'rest', 'us', 'someth', 'queer', 'gentleman—someth', 'gave', 'man', 'turn—i', '’', 'know', 'rightli', 'say', 'sir', 'beyond', 'felt', 'marrow', 'kind', 'cold', 'thin.', '”', '“', 'felt', 'someth', 'describ', '”', 'said', 'mr.', 'utterson', '“', 'quit', 'sir', '”', 'return', 'pool', '“', 'well', 'mask', 'thing', 'like', 'monkey', 'jump', 'among', 'chemic', 'whip', 'cabinet', 'went', 'spine', 'like', 'ice', 'know', '’', 'evid', 'mr.', 'utterson', '’', 'book-learn', 'enough', 'man', 'feel', 'give', 'bible-word', 'mr.', 'hyde', '”', '“', 'ay', 'ay', '”', 'said', 'lawyer', '“', 'fear', 'inclin', 'point', 'evil', 'fear', 'founded—evil', 'sure', 'come—of', 'connect', 'ay', 'truli', 'believ', 'believ', 'poor', 'harri', 'kill', 'believ', 'murder', 'purpos', 'god', 'alon', 'tell', 'still', 'lurk', 'victim', '’', 'room', 'well', 'let', 'name', 'vengeanc', 'call', 'bradshaw.', '”', 'footman', 'came', 'summon', 'white', 'nervou', '“', 'pull', 'togeth', 'bradshaw', '”', 'said', 'lawyer', '“', 'suspens', 'know', 'tell', 'upon', 'intent', 'make', 'end', 'pool', 'go', 'forc', 'way', 'cabinet', 'well', 'shoulder', 'broad', 'enough', 'bear', 'blame', 'meanwhil', 'lest', 'anyth', 'realli', 'amiss', 'malefactor', 'seek', 'escap', 'back', 'boy', 'must', 'go', 'round', 'corner', 'pair', 'good', 'stick', 'take', 'post', 'laboratori', 'door', 'give', 'ten', 'minut', 'get', 'stations.', '”', 'bradshaw', 'left', 'lawyer', 'look', 'watch', '“', 'pool', 'let', 'us', 'get', '”', 'said', 'take', 'poker', 'arm', 'led', 'way', 'yard', 'scud', 'bank', 'moon', 'quit', 'dark', 'wind', 'broke', 'puff', 'draught', 'deep', 'well', 'build', 'toss', 'light', 'candl', 'fro', 'step', 'came', 'shelter', 'theatr', 'sat', 'silent', 'wait', 'london', 'hum', 'solemnli', 'around', 'nearer', 'hand', 'still', 'broken', 'sound', 'footfal', 'move', 'fro', 'along', 'cabinet', 'floor', '“', 'walk', 'day', 'sir', '”', 'whisper', 'pool', '“', 'ay', 'better', 'part', 'night', 'new', 'sampl', 'come', 'chemist', '’', 'bit', 'break', 'ah', '’', 'ill', 'conscienc', '’', 'enemi', 'rest', 'ah', 'sir', '’', 'blood', 'foulli', 'shed', 'everi', 'step', 'hark', 'littl', 'closer—put', 'heart', 'ear', 'mr.', 'utterson', 'tell', 'doctor', '’', 'foot', '”', 'step', 'fell', 'lightli', 'oddli', 'certain', 'swing', 'went', 'slowli', 'differ', 'inde', 'heavi', 'creak', 'tread', 'henri', 'jekyl', 'utterson', 'sigh', '“', 'never', 'anyth', 'els', '”', 'ask', 'pool', 'nod', '“', '”', 'said', '“', 'heard', 'weep', '”', '“', 'weep', '”', 'said', 'lawyer', 'consciou', 'sudden', 'chill', 'horror', '“', 'weep', 'like', 'woman', 'lost', 'soul', '”', 'said', 'butler', '“', 'came', 'away', 'upon', 'heart', 'could', 'wept', 'too.', '”', 'ten', 'minut', 'drew', 'end', 'pool', 'disint', 'axe', 'stack', 'pack', 'straw', 'candl', 'set', 'upon', 'nearest', 'tabl', 'light', 'attack', 'drew', 'near', 'bate', 'breath', 'patient', 'foot', 'still', 'go', 'quiet', 'night', '“', 'jekyl', '”', 'cri', 'utterson', 'loud', 'voic', '“', 'demand', 'see', 'you.', '”', 'paus', 'moment', 'came', 'repli', '“', 'give', 'fair', 'warn', 'suspicion', 'arous', 'must', 'shall', 'see', '”', 'resum', '“', 'fair', 'mean', 'foul—if', 'consent', 'brute', 'forc', '”', '“', 'utterson', '”', 'said', 'voic', '“', 'god', '’', 'sake', 'merci', '”', '“', 'ah', '’', 'jekyl', '’', 'voice—it', '’', 'hyde', '’', '”', 'cri', 'utterson', '“', 'door', 'pool', '”', 'pool', 'swung', 'axe', 'shoulder', 'blow', 'shook', 'build', 'red', 'baiz', 'door', 'leap', 'lock', 'hing', 'dismal', 'screech', 'mere', 'anim', 'terror', 'rang', 'cabinet', 'went', 'axe', 'panel', 'crash', 'frame', 'bound', 'four', 'time', 'blow', 'fell', 'wood', 'tough', 'fit', 'excel', 'workmanship', 'fifth', 'lock', 'burst', 'wreck', 'door', 'fell', 'inward', 'carpet', 'besieg', 'appal', 'riot', 'still', 'succeed', 'stood', 'back', 'littl', 'peer', 'lay', 'cabinet', 'eye', 'quiet', 'lamplight', 'good', 'fire', 'glow', 'chatter', 'hearth', 'kettl', 'sing', 'thin', 'strain', 'drawer', 'two', 'open', 'paper', 'neatli', 'set', 'forth', 'busi', 'tabl', 'nearer', 'fire', 'thing', 'laid', 'tea', 'quietest', 'room', 'would', 'said', 'glaze', 'press', 'full', 'chemic', 'commonplac', 'night', 'london', 'right', 'middl', 'lay', 'bodi', 'man', 'sore', 'contort', 'still', 'twitch', 'drew', 'near', 'tipto', 'turn', 'back', 'beheld', 'face', 'edward', 'hyde', 'dress', 'cloth', 'far', 'larg', 'cloth', 'doctor', '’', 'big', 'cord', 'face', 'still', 'move', 'semblanc', 'life', 'life', 'quit', 'gone', 'crush', 'phial', 'hand', 'strong', 'smell', 'kernel', 'hung', 'upon', 'air', 'utterson', 'knew', 'look', 'bodi', 'self-destroy', '“', 'come', 'late', '”', 'said', 'sternli', '“', 'whether', 'save', 'punish', 'hyde', 'gone', 'account', 'remain', 'us', 'find', 'bodi', 'master.', '”', 'far', 'greater', 'proport', 'build', 'occupi', 'theatr', 'fill', 'almost', 'whole', 'ground', 'storey', 'light', 'cabinet', 'form', 'upper', 'storey', 'one', 'end', 'look', 'upon', 'court', 'corridor', 'join', 'theatr', 'door', 'by-street', 'cabinet', 'commun', 'separ', 'second', 'flight', 'stair', 'besid', 'dark', 'closet', 'spaciou', 'cellar', 'thoroughli', 'examin', 'closet', 'need', 'glanc', 'empti', 'dust', 'fell', 'door', 'stood', 'long', 'unopen', 'cellar', 'inde', 'fill', 'crazi', 'lumber', 'mostli', 'date', 'time', 'surgeon', 'jekyl', '’', 'predecessor', 'even', 'open', 'door', 'advertis', 'useless', 'search', 'fall', 'perfect', 'mat', 'cobweb', 'year', 'seal', 'entranc', 'nowher', 'trace', 'henri', 'jekyl', 'dead', 'aliv', 'pool', 'stamp', 'flag', 'corridor', '“', 'must', 'buri', '”', 'said', 'hearken', 'sound', '“', 'may', 'fled', '”', 'said', 'utterson', 'turn', 'examin', 'door', 'by-street', 'lock', 'lie', 'near', 'flag', 'found', 'key', 'alreadi', 'stain', 'rust', '“', 'look', 'like', 'use', '”', 'observ', 'lawyer', '“', 'use', '”', 'echo', 'pool', '“', 'see', 'sir', 'broken', 'much', 'man', 'stamp', 'it.', '”', '“', 'ay', '”', 'continu', 'utterson', '“', 'fractur', 'rusty.', '”', 'two', 'men', 'look', 'scare', '“', 'beyond', 'pool', '”', 'said', 'lawyer', '“', 'let', 'us', 'go', 'back', 'cabinet.', '”', 'mount', 'stair', 'silenc', 'still', 'occasion', 'awestruck', 'glanc', 'dead', 'bodi', 'proceed', 'thoroughli', 'examin', 'content', 'cabinet', 'one', 'tabl', 'trace', 'chemic', 'work', 'variou', 'measur', 'heap', 'white', 'salt', 'laid', 'glass', 'saucer', 'though', 'experi', 'unhappi', 'man', 'prevent', '“', 'drug', 'alway', 'bring', '”', 'said', 'pool', 'even', 'spoke', 'kettl', 'startl', 'nois', 'boil', 'brought', 'firesid', 'easy-chair', 'drawn', 'cosili', 'tea', 'thing', 'stood', 'readi', 'sitter', '’', 'elbow', 'sugar', 'cup', 'sever', 'book', 'shelf', 'one', 'lay', 'besid', 'tea', 'thing', 'open', 'utterson', 'amaz', 'find', 'copi', 'piou', 'work', 'jekyl', 'sever', 'time', 'express', 'great', 'esteem', 'annot', 'hand', 'startl', 'blasphemi', 'next', 'cours', 'review', 'chamber', 'searcher', 'came', 'cheval-glass', 'whose', 'depth', 'look', 'involuntari', 'horror', 'turn', 'show', 'noth', 'rosi', 'glow', 'play', 'roof', 'fire', 'sparkl', 'hundr', 'repetit', 'along', 'glaze', 'front', 'press', 'pale', 'fear', 'counten', 'stoop', 'look', '“', 'glass', 'seen', 'strang', 'thing', 'sir', '”', 'whisper', 'pool', '“', 'sure', 'none', 'stranger', '”', 'echo', 'lawyer', 'tone', '“', 'jekyl', '”', '—he', 'caught', 'word', 'start', 'conquer', 'weakness—', '“', 'could', 'jekyl', 'want', '”', 'said', '“', 'may', 'say', '”', 'said', 'pool', 'next', 'turn', 'busi', 'tabl', 'desk', 'among', 'neat', 'array', 'paper', 'larg', 'envelop', 'uppermost', 'bore', 'doctor', '’', 'hand', 'name', 'mr.', 'utterson', 'lawyer', 'unseal', 'sever', 'enclosur', 'fell', 'floor', 'first', 'drawn', 'eccentr', 'term', 'one', 'return', 'six', 'month', 'serv', 'testament', 'case', 'death', 'deed', 'gift', 'case', 'disappear', 'place', 'name', 'edward', 'hyde', 'lawyer', 'indescrib', 'amaz', 'read', 'name', 'gabriel', 'john', 'utterson', 'look', 'pool', 'back', 'paper', 'last', 'dead', 'malefactor', 'stretch', 'upon', 'carpet', '“', 'head', 'goe', 'round', '”', 'said', '“', 'day', 'possess', 'caus', 'like', 'must', 'rage', 'see', 'displac', 'destroy', 'document.', '”', 'caught', 'next', 'paper', 'brief', 'note', 'doctor', '’', 'hand', 'date', 'top', '“', 'pool', '”', 'lawyer', 'cri', '“', 'aliv', 'day', 'dispos', 'short', 'space', 'must', 'still', 'aliv', 'must', 'fled', 'fled', 'case', 'ventur', 'declar', 'suicid', 'must', 'care', 'forese', 'may', 'yet', 'involv', 'master', 'dire', 'catastrophe.', '”', '“', '’', 'read', 'sir', '”', 'ask', 'pool', '“', 'fear', '”', 'repli', 'lawyer', 'solemnli', '“', 'god', 'grant', 'caus', '”', 'brought', 'paper', 'eye', 'read', 'follow', '“', 'dear', 'utterson', '—when', 'shall', 'fall', 'hand', 'shall', 'disappear', 'circumst', 'penetr', 'forese', 'instinct', 'circumst', 'nameless', 'situat', 'tell', 'end', 'sure', 'must', 'earli', 'go', 'first', 'read', 'narr', 'lanyon', 'warn', 'place', 'hand', 'care', 'hear', 'turn', 'confess', '“', 'unworthi', 'unhappi', 'friend', '“', 'henri', 'jekyll.', '”', '“', 'third', 'enclosur', '”', 'ask', 'utterson', '“', 'sir', '”', 'said', 'pool', 'gave', 'hand', 'consider', 'packet', 'seal', 'sever', 'place', 'lawyer', 'put', 'pocket', '“', 'would', 'say', 'noth', 'paper', 'master', 'fled', 'dead', 'may', 'least', 'save', 'credit', 'ten', 'must', 'go', 'home', 'read', 'document', 'quiet', 'shall', 'back', 'midnight', 'shall', 'send', 'police.', '”', 'went', 'lock', 'door', 'theatr', 'behind', 'utterson', 'leav', 'servant', 'gather', 'fire', 'hall', 'trudg', 'back', 'offic', 'read', 'two', 'narr', 'mysteri', 'explain', 'dr.', 'lanyon', '’', 'narr', 'ninth', 'januari', 'four', 'day', 'ago', 'receiv', 'even', 'deliveri', 'regist', 'envelop', 'address', 'hand', 'colleagu', 'old', 'school', 'companion', 'henri', 'jekyl', 'good', 'deal', 'surpris', 'mean', 'habit', 'correspond', 'seen', 'man', 'dine', 'inde', 'night', 'could', 'imagin', 'noth', 'intercours', 'justifi', 'formal', 'registr', 'content', 'increas', 'wonder', 'letter', 'ran', '“', '10_th', 'december_', '18—', '“', 'dear', 'lanyon', '—you', 'one', 'oldest', 'friend', 'although', 'may', 'differ', 'time', 'scientif', 'question', 'rememb', 'least', 'side', 'break', 'affect', 'never', 'day', 'said', '‘', 'jekyl', 'life', 'honour', 'reason', 'depend', 'upon', '’', 'would', 'sacrif', 'left', 'hand', 'help', 'lanyon', 'life', 'honour', 'reason', 'merci', 'fail', 'to-night', 'lost', 'might', 'suppos', 'prefac', 'go', 'ask', 'someth', 'dishonour', 'grant', 'judg', '“', 'want', 'postpon', 'engag', 'to-night—ay', 'even', 'summon', 'bedsid', 'emperor', 'take', 'cab', 'unless', 'carriag', 'actual', 'door', 'letter', 'hand', 'consult', 'drive', 'straight', 'hous', 'pool', 'butler', 'order', 'find', 'wait', 'arriv', 'locksmith', 'door', 'cabinet', 'forc', 'go', 'alon', 'open', 'glaze', 'press', 'letter', 'e', 'left', 'hand', 'break', 'lock', 'shut', 'draw', '_with', 'content', 'stand_', 'fourth', 'drawer', 'top', 'thing', 'third', 'bottom', 'extrem', 'distress', 'mind', 'morbid', 'fear', 'misdirect', 'even', 'error', 'may', 'know', 'right', 'drawer', 'content', 'powder', 'phial', 'paper', 'book', 'drawer', 'beg', 'carri', 'back', 'cavendish', 'squar', 'exactli', 'stand', '“', 'first', 'part', 'servic', 'second', 'back', 'set', 'receipt', 'long', 'midnight', 'leav', 'amount', 'margin', 'fear', 'one', 'obstacl', 'neither', 'prevent', 'foreseen', 'hour', 'servant', 'bed', 'prefer', 'remain', 'midnight', 'ask', 'alon', 'consult', 'room', 'admit', 'hand', 'hous', 'man', 'present', 'name', 'place', 'hand', 'drawer', 'brought', 'cabinet', 'play', 'part', 'earn', 'gratitud', 'complet', 'five', 'minut', 'afterward', 'insist', 'upon', 'explan', 'understood', 'arrang', 'capit', 'import', 'neglect', 'one', 'fantast', 'must', 'appear', 'might', 'charg', 'conscienc', 'death', 'shipwreck', 'reason', '“', 'confid', 'trifl', 'appeal', 'heart', 'sink', 'hand', 'trembl', 'bare', 'thought', 'possibl', 'think', 'hour', 'strang', 'place', 'labour', 'black', 'distress', 'fanci', 'exagger', 'yet', 'well', 'awar', 'punctual', 'serv', 'troubl', 'roll', 'away', 'like', 'stori', 'told', 'serv', 'dear', 'lanyon', 'save', '“', 'friend', '“', 'h.j', '“', 'p.s.—i', 'alreadi', 'seal', 'fresh', 'terror', 'struck', 'upon', 'soul', 'possibl', 'post-offic', 'may', 'fail', 'letter', 'come', 'hand', 'to-morrow', 'morn', 'case', 'dear', 'lanyon', 'errand', 'shall', 'conveni', 'cours', 'day', 'expect', 'messeng', 'midnight', 'may', 'alreadi', 'late', 'night', 'pass', 'without', 'event', 'know', 'seen', 'last', 'henri', 'jekyll.', '”', 'upon', 'read', 'letter', 'made', 'sure', 'colleagu', 'insan', 'till', 'prove', 'beyond', 'possibl', 'doubt', 'felt', 'bound', 'request', 'less', 'understood', 'farrago', 'less', 'posit', 'judg', 'import', 'appeal', 'word', 'could', 'set', 'asid', 'without', 'grave', 'respons', 'rose', 'accordingli', 'tabl', 'got', 'hansom', 'drove', 'straight', 'jekyl', '’', 'hous', 'butler', 'await', 'arriv', 'receiv', 'post', 'mine', 'regist', 'letter', 'instruct', 'sent', 'locksmith', 'carpent', 'tradesmen', 'came', 'yet', 'speak', 'move', 'bodi', 'old', 'dr.', 'denman', '’', 'surgic', 'theatr', 'doubtless', 'awar', 'jekyl', '’', 'privat', 'cabinet', 'conveni', 'enter', 'door', 'strong', 'lock', 'excel', 'carpent', 'avow', 'would', 'great', 'troubl', 'much', 'damag', 'forc', 'use', 'locksmith', 'near', 'despair', 'last', 'handi', 'fellow', 'two', 'hour', '’', 'work', 'door', 'stood', 'open', 'press', 'mark', 'e', 'unlock', 'took', 'drawer', 'fill', 'straw', 'tie', 'sheet', 'return', 'cavendish', 'squar', 'proceed', 'examin', 'content', 'powder', 'neatli', 'enough', 'made', 'niceti', 'dispens', 'chemist', 'plain', 'jekyl', '’', 'privat', 'manufactur', 'open', 'one', 'wrapper', 'found', 'seem', 'simpl', 'crystallin', 'salt', 'white', 'colour', 'phial', 'next', 'turn', 'attent', 'might', 'half', 'full', 'blood-r', 'liquor', 'highli', 'pungent', 'sens', 'smell', 'seem', 'contain', 'phosphoru', 'volatil', 'ether', 'ingredi', 'could', 'make', 'guess', 'book', 'ordinari', 'version', 'book', 'contain', 'littl', 'seri', 'date', 'cover', 'period', 'mani', 'year', 'observ', 'entri', 'ceas', 'nearli', 'year', 'ago', 'quit', 'abruptli', 'brief', 'remark', 'append', 'date', 'usual', 'singl', 'word', '“', 'doubl', '”', 'occur', 'perhap', 'six', 'time', 'total', 'sever', 'hundr', 'entri', 'earli', 'list', 'follow', 'sever', 'mark', 'exclam', '“', 'total', 'failur', '”', 'though', 'whet', 'curios', 'told', 'littl', 'definit', 'phial', 'salt', 'record', 'seri', 'experi', 'led', 'like', 'mani', 'jekyl', '’', 'investig', 'end', 'practic', 'use', 'could', 'presenc', 'articl', 'hous', 'affect', 'either', 'honour', 'saniti', 'life', 'flighti', 'colleagu', 'messeng', 'could', 'go', 'one', 'place', 'could', 'go', 'anoth', 'even', 'grant', 'impedi', 'gentleman', 'receiv', 'secret', 'reflect', 'convinc', 'grew', 'deal', 'case', 'cerebr', 'diseas', 'though', 'dismiss', 'servant', 'bed', 'load', 'old', 'revolv', 'might', 'found', 'postur', 'self-def', 'twelv', '’', 'clock', 'scarc', 'rung', 'london', 'ere', 'knocker', 'sound', 'gentli', 'door', 'went', 'summon', 'found', 'small', 'man', 'crouch', 'pillar', 'portico', '“', 'come', 'dr.', 'jekyl', '”', 'ask', 'told', '“', 'ye', '”', 'constrain', 'gestur', 'bidden', 'enter', 'obey', 'without', 'search', 'backward', 'glanc', 'dark', 'squar', 'policeman', 'far', 'advanc', 'bull', '’', 'eye', 'open', 'sight', 'thought', 'visitor', 'start', 'made', 'greater', 'hast', 'particular', 'struck', 'confess', 'disagre', 'follow', 'bright', 'light', 'consult', 'room', 'kept', 'hand', 'readi', 'weapon', 'last', 'chanc', 'clearli', 'see', 'never', 'set', 'eye', 'much', 'certain', 'small', 'said', 'struck', 'besid', 'shock', 'express', 'face', 'remark', 'combin', 'great', 'muscular', 'activ', 'great', 'appar', 'debil', 'constitut', 'and—last', 'least—with', 'odd', 'subject', 'disturb', 'caus', 'neighbourhood', 'bore', 'resembl', 'incipi', 'rigour', 'accompani', 'mark', 'sink', 'puls', 'time', 'set', 'idiosyncrat', 'person', 'distast', 'mere', 'wonder', 'acut', 'symptom', 'sinc', 'reason', 'believ', 'caus', 'lie', 'much', 'deeper', 'natur', 'man', 'turn', 'nobler', 'hing', 'principl', 'hatr', 'person', 'thu', 'first', 'moment', 'entranc', 'struck', 'describ', 'disgust', 'curios', 'dress', 'fashion', 'would', 'made', 'ordinari', 'person', 'laughabl', 'cloth', 'say', 'although', 'rich', 'sober', 'fabric', 'enorm', 'larg', 'everi', 'measurement—th', 'trouser', 'hang', 'leg', 'roll', 'keep', 'ground', 'waist', 'coat', 'haunch', 'collar', 'sprawl', 'wide', 'upon', 'shoulder', 'strang', 'relat', 'ludicr', 'accoutr', 'far', 'move', 'laughter', 'rather', 'someth', 'abnorm', 'misbegotten', 'essenc', 'creatur', 'face', 'me—someth', 'seiz', 'surpris', 'revolting—thi', 'fresh', 'dispar', 'seem', 'fit', 'reinforc', 'interest', 'man', '’', 'natur', 'charact', 'ad', 'curios', 'origin', 'life', 'fortun', 'statu', 'world', 'observ', 'though', 'taken', 'great', 'space', 'set', 'yet', 'work', 'second', 'visitor', 'inde', 'fire', 'sombr', 'excit', '“', 'got', '”', 'cri', '“', 'got', '”', 'live', 'impati', 'even', 'laid', 'hand', 'upon', 'arm', 'sought', 'shake', 'put', 'back', 'consciou', 'touch', 'certain', 'ici', 'pang', 'along', 'blood', '“', 'come', 'sir', '”', 'said', '“', 'forget', 'yet', 'pleasur', 'acquaint', 'seat', 'please.', '”', 'show', 'exampl', 'sat', 'customari', 'seat', 'fair', 'imit', 'ordinari', 'manner', 'patient', 'late', 'hour', 'natur', 'preoccup', 'horror', 'visitor', 'would', 'suffer', 'muster', '“', 'beg', 'pardon', 'dr.', 'lanyon', '”', 'repli', 'civilli', 'enough', '“', 'say', 'well', 'found', 'impati', 'shown', 'heel', 'polit', 'come', 'instanc', 'colleagu', 'dr.', 'henri', 'jekyl', 'piec', 'busi', 'moment', 'understood', '...', '”', 'paus', 'put', 'hand', 'throat', 'could', 'see', 'spite', 'collect', 'manner', 'wrestl', 'approach', 'hysteria—', '“', 'understood', 'drawer', '...', '”', 'took', 'piti', 'visitor', '’', 'suspens', 'perhap', 'grow', 'curios', '“', 'sir', '”', 'said', 'point', 'drawer', 'lay', 'floor', 'behind', 'tabl', 'still', 'cover', 'sheet', 'sprang', 'paus', 'laid', 'hand', 'upon', 'heart', 'could', 'hear', 'teeth', 'grate', 'convuls', 'action', 'jaw', 'face', 'ghastli', 'see', 'grew', 'alarm', 'life', 'reason', '“', 'compos', '”', 'said', 'i.', 'turn', 'dread', 'smile', 'decis', 'despair', 'pluck', 'away', 'sheet', 'sight', 'content', 'utter', 'one', 'loud', 'sob', 'immens', 'relief', 'sat', 'petrifi', 'next', 'moment', 'voic', 'alreadi', 'fairli', 'well', 'control', '“', 'graduat', 'glass', '”', 'ask', 'rose', 'place', 'someth', 'effort', 'gave', 'ask', 'thank', 'smile', 'nod', 'measur', 'minim', 'red', 'tinctur', 'ad', 'one', 'powder', 'mixtur', 'first', 'reddish', 'hue', 'began', 'proport', 'crystal', 'melt', 'brighten', 'colour', 'effervesc', 'audibl', 'throw', 'small', 'fume', 'vapour', 'suddenli', 'moment', 'ebullit', 'ceas', 'compound', 'chang', 'dark', 'purpl', 'fade', 'slowli', 'wateri', 'green', 'visitor', 'watch', 'metamorphos', 'keen', 'eye', 'smile', 'set', 'glass', 'upon', 'tabl', 'turn', 'look', 'upon', 'air', 'scrutini', '“', '”', 'said', '“', 'settl', 'remain', 'wise', 'guid', 'suffer', 'take', 'glass', 'hand', 'go', 'forth', 'hous', 'without', 'parley', 'greed', 'curios', 'much', 'command', 'think', 'answer', 'shall', 'done', 'decid', 'decid', 'shall', 'left', 'neither', 'richer', 'wiser', 'unless', 'sens', 'servic', 'render', 'man', 'mortal', 'distress', 'may', 'count', 'kind', 'rich', 'soul', 'shall', 'prefer', 'choos', 'new', 'provinc', 'knowledg', 'new', 'avenu', 'fame', 'power', 'shall', 'laid', 'open', 'room', 'upon', 'instant', 'sight', 'shall', 'blast', 'prodigi', 'stagger', 'unbelief', 'satan.', '”', '“', 'sir', '”', 'said', 'affect', 'cool', 'far', 'truli', 'possess', '“', 'speak', 'enigma', 'perhap', 'wonder', 'hear', 'strong', 'impress', 'belief', 'gone', 'far', 'way', 'inexplic', 'servic', 'paus', 'see', 'end.', '”', '“', 'well', '”', 'repli', 'visitor', '“', 'lanyon', 'rememb', 'vow', 'follow', 'seal', 'profess', 'long', 'bound', 'narrow', 'materi', 'view', 'deni', 'virtu', 'transcendent', 'medicin', 'derid', 'superiors—behold', '”', 'put', 'glass', 'lip', 'drank', 'one', 'gulp', 'cri', 'follow', 'reel', 'stagger', 'clutch', 'tabl', 'held', 'stare', 'inject', 'eye', 'gasp', 'open', 'mouth', 'look', 'came', 'thought', 'change—h', 'seem', 'swell—hi', 'face', 'becam', 'suddenli', 'black', 'featur', 'seem', 'melt', 'alter—and', 'next', 'moment', 'sprung', 'feet', 'leap', 'back', 'wall', 'arm', 'rais', 'shield', 'prodigi', 'mind', 'submerg', 'terror', '“', 'god', '”', 'scream', '“', 'god', '”', 'eyes—pal', 'shaken', 'half', 'faint', 'grope', 'hand', 'like', 'man', 'restor', 'death—ther', 'stood', 'henri', 'jekyl', 'told', 'next', 'hour', 'bring', 'mind', 'set', 'paper', 'saw', 'saw', 'heard', 'heard', 'soul', 'sicken', 'yet', 'sight', 'fade', 'eye', 'ask', 'believ', 'answer', 'life', 'shaken', 'root', 'sleep', 'left', 'deadliest', 'terror', 'sit', 'hour', 'day', 'night', 'feel', 'day', 'number', 'must', 'die', 'yet', 'shall', 'die', 'incredul', 'moral', 'turpitud', 'man', 'unveil', 'even', 'tear', 'penit', 'even', 'memori', 'dwell', 'without', 'start', 'horror', 'say', 'one', 'thing', 'utterson', 'bring', 'mind', 'credit', 'enough', 'creatur', 'crept', 'hous', 'night', 'jekyl', '’', 'confess', 'known', 'name', 'hyde', 'hunt', 'everi', 'corner', 'land', 'murder', 'carew', 'hasti', 'lanyon', 'henri', 'jekyl', '’', 'full', 'statement', 'case', 'born', 'year', '18—', 'larg', 'fortun', 'endow', 'besid', 'excel', 'part', 'inclin', 'natur', 'industri', 'fond', 'respect', 'wise', 'good', 'among', 'fellowmen', 'thu', 'might', 'suppos', 'everi', 'guarante', 'honour', 'distinguish', 'futur', 'inde', 'worst', 'fault', 'certain', 'impati', 'gaieti', 'disposit', 'made', 'happi', 'mani', 'found', 'hard', 'reconcil', 'imperi', 'desir', 'carri', 'head', 'high', 'wear', 'commonli', 'grave', 'counten', 'public', 'henc', 'came', 'conceal', 'pleasur', 'reach', 'year', 'reflect', 'began', 'look', 'round', 'take', 'stock', 'progress', 'posit', 'world', 'stood', 'alreadi', 'commit', 'profound', 'duplic', 'life', 'mani', 'man', 'would', 'even', 'blazon', 'irregular', 'guilti', 'high', 'view', 'set', 'regard', 'hid', 'almost', 'morbid', 'sens', 'shame', 'thu', 'rather', 'exact', 'natur', 'aspir', 'particular', 'degrad', 'fault', 'made', 'even', 'deeper', 'trench', 'major', 'men', 'sever', 'provinc', 'good', 'ill', 'divid', 'compound', 'man', '’', 'dual', 'natur', 'case', 'driven', 'reflect', 'deepli', 'inveter', 'hard', 'law', 'life', 'lie', 'root', 'religion', 'one', 'plenti', 'spring', 'distress', 'though', 'profound', 'double-deal', 'sens', 'hypocrit', 'side', 'dead', 'earnest', 'laid', 'asid', 'restraint', 'plung', 'shame', 'labour', 'eye', 'day', 'further', 'knowledg', 'relief', 'sorrow', 'suffer', 'chanc', 'direct', 'scientif', 'studi', 'led', 'wholli', 'toward', 'mystic', 'transcendent', 'react', 'shed', 'strong', 'light', 'conscious', 'perenni', 'war', 'among', 'member', 'everi', 'day', 'side', 'intellig', 'moral', 'intellectu', 'thu', 'drew', 'steadili', 'nearer', 'truth', 'whose', 'partial', 'discoveri', 'doom', 'dread', 'shipwreck', 'man', 'truli', 'one', 'truli', 'two', 'say', 'two', 'state', 'knowledg', 'pass', 'beyond', 'point', 'other', 'follow', 'other', 'outstrip', 'line', 'hazard', 'guess', 'man', 'ultim', 'known', 'mere', 'politi', 'multifari', 'incongru', 'independ', 'denizen', 'part', 'natur', 'life', 'advanc', 'infal', 'one', 'direct', 'one', 'direct', 'moral', 'side', 'person', 'learn', 'recognis', 'thorough', 'primit', 'dualiti', 'man', 'saw', 'two', 'natur', 'contend', 'field', 'conscious', 'even', 'could', 'rightli', 'said', 'either', 'radic', 'earli', 'date', 'even', 'cours', 'scientif', 'discoveri', 'begun', 'suggest', 'nake', 'possibl', 'miracl', 'learn', 'dwell', 'pleasur', 'belov', 'daydream', 'thought', 'separ', 'element', 'told', 'could', 'hous', 'separ', 'ident', 'life', 'would', 'reliev', 'unbear', 'unjust', 'might', 'go', 'way', 'deliv', 'aspir', 'remors', 'upright', 'twin', 'could', 'walk', 'steadfastli', 'secur', 'upward', 'path', 'good', 'thing', 'found', 'pleasur', 'longer', 'expos', 'disgrac', 'penit', 'hand', 'extran', 'evil', 'curs', 'mankind', 'incongru', 'faggot', 'thu', 'bound', 'together—that', 'agonis', 'womb', 'conscious', 'polar', 'twin', 'continu', 'struggl', 'dissoci', 'far', 'reflect', 'said', 'side', 'light', 'began', 'shine', 'upon', 'subject', 'laboratori', 'tabl', 'began', 'perceiv', 'deepli', 'ever', 'yet', 'state', 'trembl', 'immateri', 'mistlik', 'transienc', 'seemingli', 'solid', 'bodi', 'walk', 'attir', 'certain', 'agent', 'found', 'power', 'shake', 'pluck', 'back', 'fleshli', 'vestment', 'even', 'wind', 'might', 'toss', 'curtain', 'pavilion', 'two', 'good', 'reason', 'enter', 'deepli', 'scientif', 'branch', 'confess', 'first', 'made', 'learn', 'doom', 'burthen', 'life', 'bound', 'ever', 'man', '’', 'shoulder', 'attempt', 'made', 'cast', 'return', 'upon', 'us', 'unfamiliar', 'aw', 'pressur', 'second', 'narr', 'make', 'ala', 'evid', 'discoveri', 'incomplet', 'enough', 'recognis', 'natur', 'bodi', 'mere', 'aura', 'effulg', 'certain', 'power', 'made', 'spirit', 'manag', 'compound', 'drug', 'power', 'dethron', 'supremaci', 'second', 'form', 'counten', 'substitut', 'none', 'less', 'natur', 'express', 'bore', 'stamp', 'lower', 'element', 'soul', 'hesit', 'long', 'put', 'theori', 'test', 'practic', 'knew', 'well', 'risk', 'death', 'drug', 'potent', 'control', 'shook', 'fortress', 'ident', 'might', 'least', 'scrupl', 'overdos', 'least', 'inopportun', 'moment', 'exhibit', 'utterli', 'blot', 'immateri', 'tabernacl', 'look', 'chang', 'temptat', 'discoveri', 'singular', 'profound', 'last', 'overcam', 'suggest', 'alarm', 'long', 'sinc', 'prepar', 'tinctur', 'purchas', 'firm', 'wholesal', 'chemist', 'larg', 'quantiti', 'particular', 'salt', 'knew', 'experi', 'last', 'ingredi', 'requir', 'late', 'one', 'accurs', 'night', 'compound', 'element', 'watch', 'boil', 'smoke', 'togeth', 'glass', 'ebullit', 'subsid', 'strong', 'glow', 'courag', 'drank', 'potion', 'rack', 'pang', 'succeed', 'grind', 'bone', 'deadli', 'nausea', 'horror', 'spirit', 'exceed', 'hour', 'birth', 'death', 'agoni', 'began', 'swiftli', 'subsid', 'came', 'great', 'sick', 'someth', 'strang', 'sensat', 'someth', 'indescrib', 'new', 'novelti', 'incred', 'sweet', 'felt', 'younger', 'lighter', 'happier', 'bodi', 'within', 'consciou', 'headi', 'reckless', 'current', 'disord', 'sensual', 'imag', 'run', 'like', 'millrac', 'fanci', 'solut', 'bond', 'oblig', 'unknown', 'innoc', 'freedom', 'soul', 'knew', 'first', 'breath', 'new', 'life', 'wick', 'tenfold', 'wick', 'sold', 'slave', 'origin', 'evil', 'thought', 'moment', 'brace', 'delight', 'like', 'wine', 'stretch', 'hand', 'exult', 'fresh', 'sensat', 'act', 'suddenli', 'awar', 'lost', 'statur', 'mirror', 'date', 'room', 'stand', 'besid', 'write', 'brought', 'later', 'purpos', 'transform', 'night', 'howev', 'far', 'gone', 'morning—th', 'morn', 'black', 'nearli', 'ripe', 'concept', 'day—th', 'inmat', 'hous', 'lock', 'rigor', 'hour', 'slumber', 'determin', 'flush', 'hope', 'triumph', 'ventur', 'new', 'shape', 'far', 'bedroom', 'cross', 'yard', 'wherein', 'constel', 'look', 'upon', 'could', 'thought', 'wonder', 'first', 'creatur', 'sort', 'unsleep', 'vigil', 'yet', 'disclos', 'stole', 'corridor', 'stranger', 'hous', 'come', 'room', 'saw', 'first', 'time', 'appear', 'edward', 'hyde', 'must', 'speak', 'theori', 'alon', 'say', 'know', 'suppos', 'probabl', 'evil', 'side', 'natur', 'transfer', 'stamp', 'efficaci', 'less', 'robust', 'less', 'develop', 'good', 'depos', 'cours', 'life', 'nine', 'tenth', 'life', 'effort', 'virtu', 'control', 'much', 'less', 'exercis', 'much', 'less', 'exhaust', 'henc', 'think', 'came', 'edward', 'hyde', 'much', 'smaller', 'slighter', 'younger', 'henri', 'jekyl', 'even', 'good', 'shone', 'upon', 'counten', 'one', 'evil', 'written', 'broadli', 'plainli', 'face', 'evil', 'besid', 'must', 'still', 'believ', 'lethal', 'side', 'man', 'left', 'bodi', 'imprint', 'deform', 'decay', 'yet', 'look', 'upon', 'ugli', 'idol', 'glass', 'consciou', 'repugn', 'rather', 'leap', 'welcom', 'seem', 'natur', 'human', 'eye', 'bore', 'liveli', 'imag', 'spirit', 'seem', 'express', 'singl', 'imperfect', 'divid', 'counten', 'hitherto', 'accustom', 'call', 'mine', 'far', 'doubtless', 'right', 'observ', 'wore', 'semblanc', 'edward', 'hyde', 'none', 'could', 'come', 'near', 'first', 'without', 'visibl', 'misgiv', 'flesh', 'take', 'human', 'be', 'meet', 'commingl', 'good', 'evil', 'edward', 'hyde', 'alon', 'rank', 'mankind', 'pure', 'evil', 'linger', 'moment', 'mirror', 'second', 'conclus', 'experi', 'yet', 'attempt', 'yet', 'remain', 'seen', 'lost', 'ident', 'beyond', 'redempt', 'must', 'flee', 'daylight', 'hous', 'longer', 'mine', 'hurri', 'back', 'cabinet', 'prepar', 'drank', 'cup', 'suffer', 'pang', 'dissolut', 'came', 'charact', 'statur', 'face', 'henri', 'jekyl', 'night', 'come', 'fatal', 'cross-road', 'approach', 'discoveri', 'nobl', 'spirit', 'risk', 'experi', 'empir', 'gener', 'piou', 'aspir', 'must', 'otherwis', 'agoni', 'death', 'birth', 'come', 'forth', 'angel', 'instead', 'fiend', 'drug', 'discrimin', 'action', 'neither', 'diabol', 'divin', 'shook', 'door', 'prisonhous', 'disposit', 'like', 'captiv', 'philippi', 'stood', 'within', 'ran', 'forth', 'time', 'virtu', 'slumber', 'evil', 'kept', 'awak', 'ambit', 'alert', 'swift', 'seiz', 'occas', 'thing', 'project', 'edward', 'hyde', 'henc', 'although', 'two', 'charact', 'well', 'two', 'appear', 'one', 'wholli', 'evil', 'still', 'old', 'henri', 'jekyl', 'incongru', 'compound', 'whose', 'reform', 'improv', 'alreadi', 'learn', 'despair', 'movement', 'thu', 'wholli', 'toward', 'wors', 'even', 'time', 'conquer', 'avers', 'dryness', 'life', 'studi', 'would', 'still', 'merrili', 'dispos', 'time', 'pleasur', 'say', 'least', 'undignifi', 'well', 'known', 'highli', 'consid', 'grow', 'toward', 'elderli', 'man', 'incoher', 'life', 'daili', 'grow', 'unwelcom', 'side', 'new', 'power', 'tempt', 'fell', 'slaveri', 'drink', 'cup', 'doff', 'bodi', 'note', 'professor', 'assum', 'like', 'thick', 'cloak', 'edward', 'hyde', 'smile', 'notion', 'seem', 'time', 'humour', 'made', 'prepar', 'studiou', 'care', 'took', 'furnish', 'hous', 'soho', 'hyde', 'track', 'polic', 'engag', 'housekeep', 'creatur', 'knew', 'well', 'silent', 'unscrupul', 'side', 'announc', 'servant', 'mr.', 'hyde', 'describ', 'full', 'liberti', 'power', 'hous', 'squar', 'parri', 'mishap', 'even', 'call', 'made', 'familiar', 'object', 'second', 'charact', 'next', 'drew', 'much', 'object', 'anyth', 'befel', 'person', 'dr.', 'jekyl', 'could', 'enter', 'edward', 'hyde', 'without', 'pecuniari', 'loss', 'thu', 'fortifi', 'suppos', 'everi', 'side', 'began', 'profit', 'strang', 'immun', 'posit', 'men', 'hire', 'bravo', 'transact', 'crime', 'person', 'reput', 'sat', 'shelter', 'first', 'ever', 'pleasur', 'first', 'could', 'plod', 'public', 'eye', 'load', 'genial', 'respect', 'moment', 'like', 'schoolboy', 'strip', 'lend', 'spring', 'headlong', 'sea', 'liberti', 'impenetr', 'mantl', 'safeti', 'complet', 'think', 'it—i', 'even', 'exist', 'let', 'escap', 'laboratori', 'door', 'give', 'second', 'two', 'mix', 'swallow', 'draught', 'alway', 'stand', 'readi', 'whatev', 'done', 'edward', 'hyde', 'would', 'pass', 'away', 'like', 'stain', 'breath', 'upon', 'mirror', 'stead', 'quietli', 'home', 'trim', 'midnight', 'lamp', 'studi', 'man', 'could', 'afford', 'laugh', 'suspicion', 'would', 'henri', 'jekyl', 'pleasur', 'made', 'hast', 'seek', 'disguis', 'said', 'undignifi', 'would', 'scarc', 'use', 'harder', 'term', 'hand', 'edward', 'hyde', 'soon', 'began', 'turn', 'toward', 'monstrou', 'would', 'come', 'back', 'excurs', 'often', 'plung', 'kind', 'wonder', 'vicari', 'deprav', 'familiar', 'call', 'soul', 'sent', 'forth', 'alon', 'good', 'pleasur', 'inher', 'malign', 'villain', 'everi', 'act', 'thought', 'center', 'self', 'drink', 'pleasur', 'bestial', 'avid', 'degre', 'tortur', 'anoth', 'relentless', 'like', 'man', 'stone', 'henri', 'jekyl', 'stood', 'time', 'aghast', 'act', 'edward', 'hyde', 'situat', 'apart', 'ordinari', 'law', 'insidi', 'relax', 'grasp', 'conscienc', 'hyde', 'hyde', 'alon', 'guilti', 'jekyl', 'wors', 'woke', 'good', 'qualiti', 'seemingli', 'unimpair', 'would', 'even', 'make', 'hast', 'possibl', 'undo', 'evil', 'done', 'hyde', 'thu', 'conscienc', 'slumber', 'detail', 'infami', 'thu', 'conniv', 'even', 'scarc', 'grant', 'commit', 'design', 'enter', 'mean', 'point', 'warn', 'success', 'step', 'chastis', 'approach', 'met', 'one', 'accid', 'brought', 'consequ', 'shall', 'mention', 'act', 'cruelti', 'child', 'arous', 'anger', 'passer-bi', 'recognis', 'day', 'person', 'kinsman', 'doctor', 'child', '’', 'famili', 'join', 'moment', 'fear', 'life', 'last', 'order', 'pacifi', 'resent', 'edward', 'hyde', 'bring', 'door', 'pay', 'chequ', 'drawn', 'name', 'henri', 'jekyl', 'danger', 'easili', 'elimin', 'futur', 'open', 'account', 'anoth', 'bank', 'name', 'edward', 'hyde', 'slope', 'hand', 'backward', 'suppli', 'doubl', 'signatur', 'thought', 'sat', 'beyond', 'reach', 'fate', 'two', 'month', 'murder', 'sir', 'danver', 'one', 'adventur', 'return', 'late', 'hour', 'woke', 'next', 'day', 'bed', 'somewhat', 'odd', 'sensat', 'vain', 'look', 'vain', 'saw', 'decent', 'furnitur', 'tall', 'proport', 'room', 'squar', 'vain', 'recognis', 'pattern', 'bed', 'curtain', 'design', 'mahogani', 'frame', 'someth', 'still', 'kept', 'insist', 'waken', 'seem', 'littl', 'room', 'soho', 'accustom', 'sleep', 'bodi', 'edward', 'hyde', 'smile', 'psycholog', 'way', 'began', 'lazili', 'inquir', 'element', 'illus', 'occasion', 'even', 'drop', 'back', 'comfort', 'morn', 'doze', 'still', 'engag', 'one', 'wake', 'moment', 'eye', 'fell', 'upon', 'hand', 'hand', 'henri', 'jekyl', 'often', 'remark', 'profession', 'shape', 'size', 'larg', 'firm', 'white', 'come', 'hand', 'saw', 'clearli', 'enough', 'yellow', 'light', 'mid-london', 'morn', 'lie', 'half', 'shut', 'bedcloth', 'lean', 'cord', 'knuckli', 'duski', 'pallor', 'thickli', 'shade', 'swart', 'growth', 'hair', 'hand', 'edward', 'hyde', 'must', 'stare', 'upon', 'near', 'half', 'minut', 'sunk', 'mere', 'stupid', 'wonder', 'terror', 'woke', 'breast', 'sudden', 'startl', 'crash', 'cymbal', 'bound', 'bed', 'rush', 'mirror', 'sight', 'met', 'eye', 'blood', 'chang', 'someth', 'exquisit', 'thin', 'ici', 'ye', 'gone', 'bed', 'henri', 'jekyl', 'awaken', 'edward', 'hyde', 'explain', 'ask', 'anoth', 'bound', 'terror—how', 'remedi', 'well', 'morn', 'servant', 'drug', 'cabinet—a', 'long', 'journey', 'two', 'pair', 'stair', 'back', 'passag', 'across', 'open', 'court', 'anatom', 'theatr', 'stand', 'horror-struck', 'might', 'inde', 'possibl', 'cover', 'face', 'use', 'unabl', 'conceal', 'alter', 'statur', 'overpow', 'sweet', 'relief', 'came', 'back', 'upon', 'mind', 'servant', 'alreadi', 'use', 'come', 'go', 'second', 'self', 'soon', 'dress', 'well', 'abl', 'cloth', 'size', 'soon', 'pass', 'hous', 'bradshaw', 'stare', 'drew', 'back', 'see', 'mr.', 'hyde', 'hour', 'strang', 'array', 'ten', 'minut', 'later', 'dr.', 'jekyl', 'return', 'shape', 'sit', 'darken', 'brow', 'make', 'feint', 'breakfast', 'small', 'inde', 'appetit', 'inexplic', 'incid', 'revers', 'previou', 'experi', 'seem', 'like', 'babylonian', 'finger', 'wall', 'spell', 'letter', 'judgment', 'began', 'reflect', 'serious', 'ever', 'issu', 'possibl', 'doubl', 'exist', 'part', 'power', 'project', 'late', 'much', 'exercis', 'nourish', 'seem', 'late', 'though', 'bodi', 'edward', 'hyde', 'grown', 'statur', 'though', 'wore', 'form', 'consciou', 'gener', 'tide', 'blood', 'began', 'spi', 'danger', 'much', 'prolong', 'balanc', 'natur', 'might', 'perman', 'overthrown', 'power', 'voluntari', 'chang', 'forfeit', 'charact', 'edward', 'hyde', 'becom', 'irrevoc', 'mine', 'power', 'drug', 'alway', 'equal', 'display', 'earli', 'career', 'total', 'fail', 'sinc', 'oblig', 'one', 'occas', 'doubl', 'infinit', 'risk', 'death', 'trebl', 'amount', 'rare', 'uncertainti', 'cast', 'hitherto', 'sole', 'shadow', 'content', 'howev', 'light', 'morn', '’', 'accid', 'led', 'remark', 'wherea', 'begin', 'difficulti', 'throw', 'bodi', 'jekyl', 'late', 'gradual', 'decidedli', 'transfer', 'side', 'thing', 'therefor', 'seem', 'point', 'slowli', 'lose', 'hold', 'origin', 'better', 'self', 'becom', 'slowli', 'incorpor', 'second', 'wors', 'two', 'felt', 'choos', 'two', 'natur', 'memori', 'common', 'faculti', 'unequ', 'share', 'jekyl', 'composit', 'sensit', 'apprehens', 'greedi', 'gusto', 'project', 'share', 'pleasur', 'adventur', 'hyde', 'hyde', 'indiffer', 'jekyl', 'rememb', 'mountain', 'bandit', 'rememb', 'cavern', 'conceal', 'pursuit', 'jekyl', 'father', '’', 'interest', 'hyde', 'son', '’', 'indiffer', 'cast', 'lot', 'jekyl', 'die', 'appetit', 'long', 'secretli', 'indulg', 'late', 'begun', 'pamper', 'cast', 'hyde', 'die', 'thousand', 'interest', 'aspir', 'becom', 'blow', 'forev', 'despis', 'friendless', 'bargain', 'might', 'appear', 'unequ', 'still', 'anoth', 'consider', 'scale', 'jekyl', 'would', 'suffer', 'smartingli', 'fire', 'abstin', 'hyde', 'would', 'even', 'consciou', 'lost', 'strang', 'circumst', 'term', 'debat', 'old', 'commonplac', 'man', 'much', 'induc', 'alarm', 'cast', 'die', 'tempt', 'trembl', 'sinner', 'fell', 'fall', 'vast', 'major', 'fellow', 'chose', 'better', 'part', 'found', 'want', 'strength', 'keep', 'ye', 'prefer', 'elderli', 'discont', 'doctor', 'surround', 'friend', 'cherish', 'honest', 'hope', 'bade', 'resolut', 'farewel', 'liberti', 'compar', 'youth', 'light', 'step', 'leap', 'impuls', 'secret', 'pleasur', 'enjoy', 'disguis', 'hyde', 'made', 'choic', 'perhap', 'unconsci', 'reserv', 'neither', 'gave', 'hous', 'soho', 'destroy', 'cloth', 'edward', 'hyde', 'still', 'lay', 'readi', 'cabinet', 'two', 'month', 'howev', 'true', 'determin', 'two', 'month', 'led', 'life', 'sever', 'never', 'attain', 'enjoy', 'compens', 'approv', 'conscienc', 'time', 'began', 'last', 'obliter', 'fresh', 'alarm', 'prais', 'conscienc', 'began', 'grow', 'thing', 'cours', 'began', 'tortur', 'throe', 'long', 'hyde', 'struggl', 'freedom', 'last', 'hour', 'moral', 'weak', 'compound', 'swallow', 'transform', 'draught', 'suppos', 'drunkard', 'reason', 'upon', 'vice', 'five', 'hundr', 'time', 'affect', 'danger', 'run', 'brutish', 'physic', 'insens', 'neither', 'long', 'consid', 'posit', 'made', 'enough', 'allow', 'complet', 'moral', 'insens', 'insens', 'readi', 'evil', 'lead', 'charact', 'edward', 'hyde', 'yet', 'punish', 'devil', 'long', 'cage', 'came', 'roar', 'consciou', 'even', 'took', 'draught', 'unbridl', 'furiou', 'propens', 'ill.', 'must', 'suppos', 'stir', 'soul', 'tempest', 'impati', 'listen', 'civil', 'unhappi', 'victim', 'declar', 'least', 'god', 'man', 'moral', 'sane', 'could', 'guilti', 'crime', 'upon', 'piti', 'provoc', 'struck', 'reason', 'spirit', 'sick', 'child', 'may', 'break', 'playth', 'voluntarili', 'strip', 'balanc', 'instinct', 'even', 'worst', 'us', 'continu', 'walk', 'degre', 'steadi', 'among', 'temptat', 'case', 'tempt', 'howev', 'slightli', 'fall', 'instantli', 'spirit', 'hell', 'awok', 'rage', 'transport', 'glee', 'maul', 'unresist', 'bodi', 'tast', 'delight', 'everi', 'blow', 'till', 'weari', 'begun', 'succeed', 'suddenli', 'top', 'fit', 'delirium', 'struck', 'heart', 'cold', 'thrill', 'terror', 'mist', 'dispers', 'saw', 'life', 'forfeit', 'fled', 'scene', 'excess', 'glori', 'trembl', 'lust', 'evil', 'gratifi', 'stimul', 'love', 'life', 'screw', 'topmost', 'peg', 'ran', 'hous', 'soho', 'make', 'assur', 'doubli', 'sure', 'destroy', 'paper', 'thenc', 'set', 'lamplit', 'street', 'divid', 'ecstasi', 'mind', 'gloat', 'crime', 'light-headedli', 'devis', 'other', 'futur', 'yet', 'still', 'hasten', 'still', 'hearken', 'wake', 'step', 'aveng', 'hyde', 'song', 'upon', 'lip', 'compound', 'draught', 'drank', 'pledg', 'dead', 'man', 'pang', 'transform', 'done', 'tear', 'henri', 'jekyl', 'stream', 'tear', 'gratitud', 'remors', 'fallen', 'upon', 'knee', 'lift', 'clasp', 'hand', 'god', 'veil', 'self-indulg', 'rent', 'head', 'foot', 'saw', 'life', 'whole', 'follow', 'day', 'childhood', 'walk', 'father', '’', 'hand', 'self-deni', 'toil', 'profession', 'life', 'arriv', 'sens', 'unreal', 'damn', 'horror', 'even', 'could', 'scream', 'aloud', 'sought', 'tear', 'prayer', 'smother', 'crowd', 'hideou', 'imag', 'sound', 'memori', 'swarm', 'still', 'petit', 'ugli', 'face', 'iniqu', 'stare', 'soul', 'acut', 'remors', 'began', 'die', 'away', 'succeed', 'sens', 'joy', 'problem', 'conduct', 'solv', 'hyde', 'thenceforth', 'imposs', 'whether', 'would', 'confin', 'better', 'part', 'exist', 'rejoic', 'think', 'will', 'humil', 'embrac', 'anew', 'restrict', 'natur', 'life', 'sincer', 'renunci', 'lock', 'door', 'often', 'gone', 'come', 'ground', 'key', 'heel', 'next', 'day', 'came', 'news', 'murder', 'overlook', 'guilt', 'hyde', 'patent', 'world', 'victim', 'man', 'high', 'public', 'estim', 'crime', 'tragic', 'folli', 'think', 'glad', 'know', 'think', 'glad', 'better', 'impuls', 'thu', 'buttress', 'guard', 'terror', 'scaffold', 'jekyl', 'citi', 'refug', 'let', 'hyde', 'peep', 'instant', 'hand', 'men', 'would', 'rais', 'take', 'slay', 'resolv', 'futur', 'conduct', 'redeem', 'past', 'say', 'honesti', 'resolv', 'fruit', 'good', 'know', 'earnestli', 'last', 'month', 'last', 'year', 'labour', 'reliev', 'suffer', 'know', 'much', 'done', 'other', 'day', 'pass', 'quietli', 'almost', 'happili', 'truli', 'say', 'weari', 'benefic', 'innoc', 'life', 'think', 'instead', 'daili', 'enjoy', 'complet', 'still', 'curs', 'dualiti', 'purpos', 'first', 'edg', 'penit', 'wore', 'lower', 'side', 'long', 'indulg', 'recent', 'chain', 'began', 'growl', 'licenc', 'dream', 'resuscit', 'hyde', 'bare', 'idea', 'would', 'startl', 'frenzi', 'person', 'tempt', 'trifl', 'conscienc', 'ordinari', 'secret', 'sinner', 'last', 'fell', 'assault', 'temptat', 'come', 'end', 'thing', 'capaci', 'measur', 'fill', 'last', 'brief', 'condescens', 'evil', 'final', 'destroy', 'balanc', 'soul', 'yet', 'alarm', 'fall', 'seem', 'natur', 'like', 'return', 'old', 'day', 'made', 'discoveri', 'fine', 'clear', 'januari', 'day', 'wet', 'foot', 'frost', 'melt', 'cloudless', 'overhead', 'regent', '’', 'park', 'full', 'winter', 'chirrup', 'sweet', 'spring', 'odour', 'sat', 'sun', 'bench', 'anim', 'within', 'lick', 'chop', 'memori', 'spiritu', 'side', 'littl', 'drows', 'promis', 'subsequ', 'penit', 'yet', 'move', 'begin', 'reflect', 'like', 'neighbour', 'smile', 'compar', 'men', 'compar', 'activ', 'good-wil', 'lazi', 'cruelti', 'neglect', 'moment', 'vainglori', 'thought', 'qualm', 'came', 'horrid', 'nausea', 'deadli', 'shudder', 'pass', 'away', 'left', 'faint', 'turn', 'faint', 'subsid', 'began', 'awar', 'chang', 'temper', 'thought', 'greater', 'bold', 'contempt', 'danger', 'solut', 'bond', 'oblig', 'look', 'cloth', 'hung', 'formlessli', 'shrunken', 'limb', 'hand', 'lay', 'knee', 'cord', 'hairi', 'edward', 'hyde', 'moment', 'safe', 'men', '’', 'respect', 'wealthi', 'beloved—th', 'cloth', 'lay', 'dining-room', 'home', 'common', 'quarri', 'mankind', 'hunt', 'houseless', 'known', 'murder', 'thrall', 'gallow', 'reason', 'waver', 'fail', 'utterli', 'observ', 'second', 'charact', 'faculti', 'seem', 'sharpen', 'point', 'spirit', 'tens', 'elast', 'thu', 'came', 'jekyl', 'perhap', 'might', 'succumb', 'hyde', 'rose', 'import', 'moment', 'drug', 'one', 'press', 'cabinet', 'reach', 'problem', 'crush', 'templ', 'hand', 'set', 'solv', 'laboratori', 'door', 'close', 'sought', 'enter', 'hous', 'servant', 'would', 'consign', 'gallow', 'saw', 'must', 'employ', 'anoth', 'hand', 'thought', 'lanyon', 'reach', 'persuad', 'suppos', 'escap', 'captur', 'street', 'make', 'way', 'presenc', 'unknown', 'displeas', 'visitor', 'prevail', 'famou', 'physician', 'rifl', 'studi', 'colleagu', 'dr.', 'jekyl', 'rememb', 'origin', 'charact', 'one', 'part', 'remain', 'could', 'write', 'hand', 'conceiv', 'kindl', 'spark', 'way', 'must', 'follow', 'becam', 'light', 'end', 'end', 'thereupon', 'arrang', 'cloth', 'best', 'could', 'summon', 'pass', 'hansom', 'drove', 'hotel', 'portland', 'street', 'name', 'chanc', 'rememb', 'appear', 'inde', 'comic', 'enough', 'howev', 'tragic', 'fate', 'garment', 'cover', 'driver', 'could', 'conceal', 'mirth', 'gnash', 'teeth', 'upon', 'gust', 'devilish', 'furi', 'smile', 'wither', 'face—happili', 'him—yet', 'happili', 'anoth', 'instant', 'certainli', 'drag', 'perch', 'inn', 'enter', 'look', 'black', 'counten', 'made', 'attend', 'trembl', 'look', 'exchang', 'presenc', 'obsequi', 'took', 'order', 'led', 'privat', 'room', 'brought', 'wherewith', 'write', 'hyde', 'danger', 'life', 'creatur', 'new', 'shaken', 'inordin', 'anger', 'strung', 'pitch', 'murder', 'lust', 'inflict', 'pain', 'yet', 'creatur', 'astut', 'master', 'furi', 'great', 'effort', 'compos', 'two', 'import', 'letter', 'one', 'lanyon', 'one', 'pool', 'might', 'receiv', 'actual', 'evid', 'post', 'sent', 'direct', 'regist', 'thenceforward', 'sat', 'day', 'fire', 'privat', 'room', 'gnaw', 'nail', 'dine', 'sit', 'alon', 'fear', 'waiter', 'visibl', 'quail', 'eye', 'thenc', 'night', 'fulli', 'come', 'set', 'forth', 'corner', 'close', 'cab', 'driven', 'fro', 'street', 'citi', 'say—i', 'say', 'i.', 'child', 'hell', 'noth', 'human', 'noth', 'live', 'fear', 'hatr', 'last', 'think', 'driver', 'begun', 'grow', 'suspici', 'discharg', 'cab', 'ventur', 'foot', 'attir', 'misfit', 'cloth', 'object', 'mark', 'observ', 'midst', 'nocturn', 'passeng', 'two', 'base', 'passion', 'rage', 'within', 'like', 'tempest', 'walk', 'fast', 'hunt', 'fear', 'chatter', 'skulk', 'less', 'frequent', 'thoroughfar', 'count', 'minut', 'still', 'divid', 'midnight', 'woman', 'spoke', 'offer', 'think', 'box', 'light', 'smote', 'face', 'fled', 'came', 'lanyon', '’', 'horror', 'old', 'friend', 'perhap', 'affect', 'somewhat', 'know', 'least', 'drop', 'sea', 'abhorr', 'look', 'back', 'upon', 'hour', 'chang', 'come', 'longer', 'fear', 'gallow', 'horror', 'hyde', 'rack', 'receiv', 'lanyon', '’', 'condemn', 'partli', 'dream', 'partli', 'dream', 'came', 'home', 'hous', 'got', 'bed', 'slept', 'prostrat', 'day', 'stringent', 'profound', 'slumber', 'even', 'nightmar', 'wrung', 'could', 'avail', 'break', 'awok', 'morn', 'shaken', 'weaken', 'refresh', 'still', 'hate', 'fear', 'thought', 'brute', 'slept', 'within', 'cours', 'forgotten', 'appal', 'danger', 'day', 'home', 'hous', 'close', 'drug', 'gratitud', 'escap', 'shone', 'strong', 'soul', 'almost', 'rival', 'bright', 'hope', 'step', 'leisur', 'across', 'court', 'breakfast', 'drink', 'chill', 'air', 'pleasur', 'seiz', 'indescrib', 'sensat', 'herald', 'chang', 'time', 'gain', 'shelter', 'cabinet', 'rage', 'freez', 'passion', 'hyde', 'took', 'occas', 'doubl', 'dose', 'recal', 'ala', 'six', 'hour', 'sat', 'look', 'sadli', 'fire', 'pang', 'return', 'drug', 're-administ', 'short', 'day', 'forth', 'seem', 'great', 'effort', 'gymnast', 'immedi', 'stimul', 'drug', 'abl', 'wear', 'counten', 'jekyl', 'hour', 'day', 'night', 'would', 'taken', 'premonitori', 'shudder', 'slept', 'even', 'doze', 'moment', 'chair', 'alway', 'hyde', 'awaken', 'strain', 'continu', 'impend', 'doom', 'sleepless', 'condemn', 'ay', 'even', 'beyond', 'thought', 'possibl', 'man', 'becam', 'person', 'creatur', 'eaten', 'empti', 'fever', 'languidli', 'weak', 'bodi', 'mind', 'sole', 'occupi', 'one', 'thought', 'horror', 'self', 'slept', 'virtu', 'medicin', 'wore', 'would', 'leap', 'almost', 'without', 'transit', 'pang', 'transform', 'grew', 'daili', 'less', 'mark', 'possess', 'fanci', 'brim', 'imag', 'terror', 'soul', 'boil', 'causeless', 'hatr', 'bodi', 'seem', 'strong', 'enough', 'contain', 'rage', 'energi', 'life', 'power', 'hyde', 'seem', 'grown', 'sickli', 'jekyl', 'certainli', 'hate', 'divid', 'equal', 'side', 'jekyl', 'thing', 'vital', 'instinct', 'seen', 'full', 'deform', 'creatur', 'share', 'phenomena', 'conscious', 'co-heir', 'death', 'beyond', 'link', 'commun', 'made', 'poignant', 'part', 'distress', 'thought', 'hyde', 'energi', 'life', 'someth', 'hellish', 'inorgan', 'shock', 'thing', 'slime', 'pit', 'seem', 'utter', 'cri', 'voic', 'amorph', 'dust', 'gesticul', 'sin', 'dead', 'shape', 'usurp', 'offic', 'life', 'insurg', 'horror', 'knit', 'closer', 'wife', 'closer', 'eye', 'lay', 'cage', 'flesh', 'heard', 'mutter', 'felt', 'struggl', 'born', 'everi', 'hour', 'weak', 'confid', 'slumber', 'prevail', 'depos', 'life', 'hatr', 'hyde', 'jekyl', 'differ', 'order', 'terror', 'gallow', 'drove', 'continu', 'commit', 'temporari', 'suicid', 'return', 'subordin', 'station', 'part', 'instead', 'person', 'loath', 'necess', 'loath', 'despond', 'jekyl', 'fallen', 'resent', 'dislik', 'regard', 'henc', 'ape-lik', 'trick', 'would', 'play', 'scrawl', 'hand', 'blasphemi', 'page', 'book', 'burn', 'letter', 'destroy', 'portrait', 'father', 'inde', 'fear', 'death', 'would', 'long', 'ago', 'ruin', 'order', 'involv', 'ruin', 'love', 'life', 'wonder', 'go', 'sicken', 'freez', 'mere', 'thought', 'recal', 'abject', 'passion', 'attach', 'know', 'fear', 'power', 'cut', 'suicid', 'find', 'heart', 'piti', 'useless', 'time', 'aw', 'fail', 'prolong', 'descript', 'one', 'ever', 'suffer', 'torment', 'let', 'suffic', 'yet', 'even', 'habit', 'brought—no', 'alleviation—but', 'certain', 'callous', 'soul', 'certain', 'acquiesc', 'despair', 'punish', 'might', 'gone', 'year', 'last', 'calam', 'fallen', 'final', 'sever', 'face', 'natur', 'provis', 'salt', 'never', 'renew', 'sinc', 'date', 'first', 'experi', 'began', 'run', 'low', 'sent', 'fresh', 'suppli', 'mix', 'draught', 'ebullit', 'follow', 'first', 'chang', 'colour', 'second', 'drank', 'without', 'effici', 'learn', 'pool', 'london', 'ransack', 'vain', 'persuad', 'first', 'suppli', 'impur', 'unknown', 'impur', 'lent', 'efficaci', 'draught', 'week', 'pass', 'finish', 'statement', 'influenc', 'last', 'old', 'powder', 'last', 'time', 'short', 'miracl', 'henri', 'jekyl', 'think', 'thought', 'see', 'face', 'sadli', 'alter', 'glass', 'must', 'delay', 'long', 'bring', 'write', 'end', 'narr', 'hitherto', 'escap', 'destruct', 'combin', 'great', 'prudenc', 'great', 'good', 'luck', 'throe', 'chang', 'take', 'act', 'write', 'hyde', 'tear', 'piec', 'time', 'shall', 'elaps', 'laid', 'wonder', 'selfish', 'circumscript', 'moment', 'probabl', 'save', 'action', 'ape-lik', 'spite', 'inde', 'doom', 'close', 'us', 'alreadi', 'chang', 'crush', 'half', 'hour', 'shall', 'forev', 'reindu', 'hate', 'person', 'know', 'shall', 'sit', 'shudder', 'weep', 'chair', 'continu', 'strain', 'fearstruck', 'ecstasi', 'listen', 'pace', 'room', 'last', 'earthli', 'refug', 'give', 'ear', 'everi', 'sound', 'menac', 'hyde', 'die', 'upon', 'scaffold', 'find', 'courag', 'releas', 'last', 'moment', 'god', 'know', 'careless', 'true', 'hour', 'death', 'follow', 'concern', 'anoth', 'lay', 'pen', 'proceed', 'seal', 'confess', 'bring', 'life', 'unhappi', 'henri', 'jekyl', 'end']\n"
     ]
    }
   ],
   "source": [
    "# realitza stemming al conjunt de dades.\n",
    "ps = PorterStemmer()\n",
    "\n",
    "stemmed_words=[]\n",
    "for w in filtered_words:\n",
    "    stemmed_words.append(ps.stem(w))\n",
    "\n",
    "print(\"Stemmed words:\",stemmed_words)"
   ]
  },
  {
   "cell_type": "markdown",
   "metadata": {},
   "source": [
    "### Nivell 3"
   ]
  },
  {
   "cell_type": "markdown",
   "metadata": {},
   "source": [
    "- Exercici 1\n",
    "\n",
    "Realitza sentiment analysis al teu conjunt de dades."
   ]
  },
  {
   "cell_type": "markdown",
   "metadata": {},
   "source": [
    "NLTK already has a built-in, pretrained sentiment analyzer called VADER (Valence Aware Dictionary and sEntiment Reasoner)."
   ]
  },
  {
   "cell_type": "code",
   "execution_count": 100,
   "metadata": {},
   "outputs": [
    {
     "name": "stderr",
     "output_type": "stream",
     "text": [
      "[nltk_data] Downloading package vader_lexicon to\n",
      "[nltk_data]     /home/vant/nltk_data...\n"
     ]
    },
    {
     "data": {
      "text/plain": [
       "True"
      ]
     },
     "execution_count": 100,
     "metadata": {},
     "output_type": "execute_result"
    }
   ],
   "source": [
    "nltk.download('vader_lexicon')"
   ]
  },
  {
   "cell_type": "code",
   "execution_count": 98,
   "metadata": {},
   "outputs": [],
   "source": [
    "from nltk.sentiment import SentimentIntensityAnalyzer"
   ]
  },
  {
   "cell_type": "code",
   "execution_count": 152,
   "metadata": {},
   "outputs": [
    {
     "data": {
      "text/plain": [
       "{'neg': 0.0, 'neu': 0.423, 'pos': 0.577, 'compound': 0.6249}"
      ]
     },
     "execution_count": 152,
     "metadata": {},
     "output_type": "execute_result"
    }
   ],
   "source": [
    "sia = SentimentIntensityAnalyzer()\n",
    "\n",
    "example = 'this course is great'\n",
    "sia.polarity_scores(example)"
   ]
  },
  {
   "cell_type": "markdown",
   "metadata": {},
   "source": [
    "+ compound va de -1 (negatiu) a 1  positiu)"
   ]
  },
  {
   "cell_type": "code",
   "execution_count": 147,
   "metadata": {},
   "outputs": [],
   "source": [
    "from nltk.tokenize import sent_tokenize"
   ]
  },
  {
   "cell_type": "code",
   "execution_count": 155,
   "metadata": {},
   "outputs": [],
   "source": [
    "book_sentences = sent_tokenize(raw)"
   ]
  },
  {
   "cell_type": "code",
   "execution_count": 156,
   "metadata": {},
   "outputs": [
    {
     "data": {
      "text/plain": [
       "956"
      ]
     },
     "execution_count": 156,
     "metadata": {},
     "output_type": "execute_result"
    }
   ],
   "source": [
    "len(book_sentences)"
   ]
  },
  {
   "cell_type": "code",
   "execution_count": 157,
   "metadata": {},
   "outputs": [
    {
     "data": {
      "text/plain": [
       "'Mr. Utterson the lawyer was a man of a rugged countenance that was\\nnever lighted by a smile; cold, scanty and embarrassed in discourse;\\nbackward in sentiment; lean, long, dusty, dreary and yet somehow\\nlovable.'"
      ]
     },
     "execution_count": 157,
     "metadata": {},
     "output_type": "execute_result"
    }
   ],
   "source": [
    "book_sentences[0]"
   ]
  },
  {
   "cell_type": "code",
   "execution_count": 194,
   "metadata": {},
   "outputs": [
    {
     "data": {
      "text/plain": [
       "{'neg': 0.18, 'neu': 0.718, 'pos': 0.103, 'compound': -0.2523}"
      ]
     },
     "execution_count": 194,
     "metadata": {},
     "output_type": "execute_result"
    }
   ],
   "source": [
    "sia.polarity_scores(book_sentences[0])"
   ]
  },
  {
   "cell_type": "code",
   "execution_count": 165,
   "metadata": {},
   "outputs": [],
   "source": [
    "overall_compound = []\n",
    "for sentence in book_sentences:\n",
    "    outcome = sia.polarity_scores(sentence)['compound']\n",
    "    overall_compound.append(outcome)"
   ]
  },
  {
   "cell_type": "code",
   "execution_count": 203,
   "metadata": {},
   "outputs": [
    {
     "data": {
      "text/plain": [
       "<AxesSubplot:ylabel='Count'>"
      ]
     },
     "execution_count": 203,
     "metadata": {},
     "output_type": "execute_result"
    },
    {
     "data": {
      "image/png": "[encoded data removed]",
      "text/plain": [
       "<Figure size 432x288 with 1 Axes>"
      ]
     },
     "metadata": {
      "needs_background": "light"
     },
     "output_type": "display_data"
    }
   ],
   "source": [
    "sns.histplot(overall_compound,bins=50)"
   ]
  },
  {
   "cell_type": "code",
   "execution_count": 195,
   "metadata": {},
   "outputs": [
    {
     "name": "stdout",
     "output_type": "stream",
     "text": [
      "% negative sentences = 34.9 %\n",
      "% positive sentences = 37.7 %\n",
      "% neutral sentences = 27.4 %\n"
     ]
    }
   ],
   "source": [
    "total = np.asarray(overall_compound)\n",
    "\n",
    "print(f'% negative sentences = {round(len(total[total<0])/len(overall_compound)*100,1)} %')\n",
    "print(f'% positive sentences = {round(len(total[total>0])/len(overall_compound)*100,1)} %')\n",
    "print(f'% neutral sentences = {round(len(total[total==0])/len(overall_compound)*100,1)} %')"
   ]
  },
  {
   "cell_type": "markdown",
   "metadata": {},
   "source": [
    " + he analitzat cada frase del llibre per extreure el valor de compound\n",
    " + et pot mirar mean o la mitjana per veure si la majoria de frases tenen tendencia positiva o no\n",
    "\n",
    "    "
   ]
  },
  {
   "cell_type": "code",
   "execution_count": 196,
   "metadata": {},
   "outputs": [],
   "source": [
    "# aquesta llibreria tambe explora sentiment analysis\n",
    "from textblob import TextBlob"
   ]
  },
  {
   "cell_type": "code",
   "execution_count": 200,
   "metadata": {},
   "outputs": [
    {
     "data": {
      "text/plain": [
       "Sentiment(polarity=-0.05, subjectivity=0.52)"
      ]
     },
     "execution_count": 200,
     "metadata": {},
     "output_type": "execute_result"
    }
   ],
   "source": [
    "TextBlob(book_sentences[0]).sentiment"
   ]
  },
  {
   "cell_type": "code",
   "execution_count": 201,
   "metadata": {},
   "outputs": [],
   "source": [
    "overall_polarity = []\n",
    "for sentence in book_sentences:\n",
    "    outcome = TextBlob(sentence).sentiment.polarity\n",
    "    overall_polarity.append(outcome)"
   ]
  },
  {
   "cell_type": "code",
   "execution_count": 204,
   "metadata": {},
   "outputs": [
    {
     "data": {
      "text/plain": [
       "<AxesSubplot:ylabel='Count'>"
      ]
     },
     "execution_count": 204,
     "metadata": {},
     "output_type": "execute_result"
    },
    {
     "data": {
      "image/png": "[encoded data removed]",
      "text/plain": [
       "<Figure size 432x288 with 1 Axes>"
      ]
     },
     "metadata": {
      "needs_background": "light"
     },
     "output_type": "display_data"
    }
   ],
   "source": [
    "sns.histplot(overall_polarity,bins=50)"
   ]
  },
  {
   "cell_type": "code",
   "execution_count": null,
   "metadata": {},
   "outputs": [],
   "source": []
  }
 ],
 "metadata": {
  "kernelspec": {
   "display_name": "Python 3.8.5 64-bit",
   "language": "python",
   "name": "python38564bit085283b789164c689fec9352bdb58d25"
  },
  "language_info": {
   "codemirror_mode": {
    "name": "ipython",
    "version": 3
   },
   "file_extension": ".py",
   "mimetype": "text/x-python",
   "name": "python",
   "nbconvert_exporter": "python",
   "pygments_lexer": "ipython3",
   "version": "3.8.5"
  }
 },
 "nbformat": 4,
 "nbformat_minor": 4
}
